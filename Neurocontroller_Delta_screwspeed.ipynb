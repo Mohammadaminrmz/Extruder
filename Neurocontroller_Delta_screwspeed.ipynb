{
 "cells": [
  {
   "cell_type": "code",
   "execution_count": 1,
   "metadata": {},
   "outputs": [
    {
     "name": "stderr",
     "output_type": "stream",
     "text": [
      "<frozen importlib._bootstrap>:228: RuntimeWarning: scipy._lib.messagestream.MessageStream size changed, may indicate binary incompatibility. Expected 56 from C header, got 64 from PyObject\n"
     ]
    }
   ],
   "source": [
    "import numpy as np\n",
    "import pandas as pd\n",
    "import matplotlib.pyplot as plt\n",
    "from sklearn.model_selection import train_test_split\n",
    "from sklearn.preprocessing import MinMaxScaler\n",
    "from sklearn.ensemble import GradientBoostingRegressor\n",
    "from sklearn.model_selection import cross_validate"
   ]
  },
  {
   "cell_type": "code",
   "execution_count": 2,
   "metadata": {},
   "outputs": [],
   "source": [
    "df = pd.read_excel('neurocontroller_model.xlsx', dtype=np.float32)"
   ]
  },
  {
   "cell_type": "code",
   "execution_count": 3,
   "metadata": {},
   "outputs": [
    {
     "data": {
      "text/html": [
       "<div>\n",
       "<style scoped>\n",
       "    .dataframe tbody tr th:only-of-type {\n",
       "        vertical-align: middle;\n",
       "    }\n",
       "\n",
       "    .dataframe tbody tr th {\n",
       "        vertical-align: top;\n",
       "    }\n",
       "\n",
       "    .dataframe thead th {\n",
       "        text-align: right;\n",
       "    }\n",
       "</style>\n",
       "<table border=\"1\" class=\"dataframe\">\n",
       "  <thead>\n",
       "    <tr style=\"text-align: right;\">\n",
       "      <th></th>\n",
       "      <th>mass_flow(kg/h)</th>\n",
       "      <th>Energy_ref</th>\n",
       "      <th>Torque_ref</th>\n",
       "      <th>screw_speed(rpm)</th>\n",
       "      <th>solid_content(%)</th>\n",
       "      <th>Energy(kJ/kg)</th>\n",
       "      <th>Torque(N.m)</th>\n",
       "      <th>∆𝒏</th>\n",
       "      <th>∆𝑐_𝑚</th>\n",
       "    </tr>\n",
       "  </thead>\n",
       "  <tbody>\n",
       "    <tr>\n",
       "      <th>0</th>\n",
       "      <td>2.28</td>\n",
       "      <td>6552.149414</td>\n",
       "      <td>2.972</td>\n",
       "      <td>800.0</td>\n",
       "      <td>70.0</td>\n",
       "      <td>6552.149414</td>\n",
       "      <td>2.972000</td>\n",
       "      <td>0.0</td>\n",
       "      <td>0.0</td>\n",
       "    </tr>\n",
       "    <tr>\n",
       "      <th>1</th>\n",
       "      <td>2.28</td>\n",
       "      <td>6552.149414</td>\n",
       "      <td>2.972</td>\n",
       "      <td>1000.0</td>\n",
       "      <td>70.0</td>\n",
       "      <td>9031.174805</td>\n",
       "      <td>3.277172</td>\n",
       "      <td>-200.0</td>\n",
       "      <td>0.0</td>\n",
       "    </tr>\n",
       "    <tr>\n",
       "      <th>2</th>\n",
       "      <td>2.28</td>\n",
       "      <td>6552.149414</td>\n",
       "      <td>2.972</td>\n",
       "      <td>1200.0</td>\n",
       "      <td>70.0</td>\n",
       "      <td>8612.666016</td>\n",
       "      <td>2.604422</td>\n",
       "      <td>-400.0</td>\n",
       "      <td>0.0</td>\n",
       "    </tr>\n",
       "    <tr>\n",
       "      <th>3</th>\n",
       "      <td>2.28</td>\n",
       "      <td>6552.149414</td>\n",
       "      <td>2.972</td>\n",
       "      <td>800.0</td>\n",
       "      <td>72.5</td>\n",
       "      <td>7118.958984</td>\n",
       "      <td>3.229100</td>\n",
       "      <td>0.0</td>\n",
       "      <td>-2.5</td>\n",
       "    </tr>\n",
       "    <tr>\n",
       "      <th>4</th>\n",
       "      <td>2.28</td>\n",
       "      <td>6552.149414</td>\n",
       "      <td>2.972</td>\n",
       "      <td>1000.0</td>\n",
       "      <td>72.5</td>\n",
       "      <td>9297.460938</td>\n",
       "      <td>3.373800</td>\n",
       "      <td>-200.0</td>\n",
       "      <td>-2.5</td>\n",
       "    </tr>\n",
       "  </tbody>\n",
       "</table>\n",
       "</div>"
      ],
      "text/plain": [
       "   mass_flow(kg/h)   Energy_ref  Torque_ref  screw_speed(rpm)  \\\n",
       "0             2.28  6552.149414       2.972             800.0   \n",
       "1             2.28  6552.149414       2.972            1000.0   \n",
       "2             2.28  6552.149414       2.972            1200.0   \n",
       "3             2.28  6552.149414       2.972             800.0   \n",
       "4             2.28  6552.149414       2.972            1000.0   \n",
       "\n",
       "   solid_content(%)  Energy(kJ/kg)  Torque(N.m)     ∆𝒏  ∆𝑐_𝑚  \n",
       "0              70.0    6552.149414     2.972000    0.0   0.0  \n",
       "1              70.0    9031.174805     3.277172 -200.0   0.0  \n",
       "2              70.0    8612.666016     2.604422 -400.0   0.0  \n",
       "3              72.5    7118.958984     3.229100    0.0  -2.5  \n",
       "4              72.5    9297.460938     3.373800 -200.0  -2.5  "
      ]
     },
     "execution_count": 3,
     "metadata": {},
     "output_type": "execute_result"
    }
   ],
   "source": [
    "df.head(5)"
   ]
  },
  {
   "cell_type": "code",
   "execution_count": 4,
   "metadata": {},
   "outputs": [
    {
     "data": {
      "text/plain": [
       "['scaler_nc.joblib']"
      ]
     },
     "execution_count": 4,
     "metadata": {},
     "output_type": "execute_result"
    }
   ],
   "source": [
    "#define inputs and outputs\n",
    "df = df.sample(frac=1)\n",
    "X1_data = df[['mass_flow(kg/h)','Energy_ref','Torque_ref','Energy(kJ/kg)','Torque(N.m)']]\n",
    "Y1_data = df[['∆𝒏']]   #∆𝒏: Screw_speed                     \n",
    "\n",
    "X_data = X1_data.values\n",
    "Y_data= Y1_data.values\n",
    "# normalize data\n",
    "scaler = MinMaxScaler()\n",
    "X_data = scaler.fit_transform(X_data)\n",
    "from joblib import dump\n",
    "dump(scaler , \"scaler_nc.joblib\")\n",
    "    "
   ]
  },
  {
   "cell_type": "markdown",
   "metadata": {},
   "source": [
    "# SKLearnModel"
   ]
  },
  {
   "cell_type": "code",
   "execution_count": 5,
   "metadata": {},
   "outputs": [],
   "source": [
    "model_Dn_Neurocontroller= GradientBoostingRegressor(n_estimators =2000 , learning_rate = 0.2,max_depth=2)\n",
    "Dn_Neurocontroller = cross_validate(model_Dn_Neurocontroller,X_data,Y_data.reshape(-1,),cv=10,scoring=('neg_mean_absolute_error'),return_train_score=True)"
   ]
  },
  {
   "cell_type": "code",
   "execution_count": 7,
   "metadata": {},
   "outputs": [
    {
     "data": {
      "text/plain": [
       "['model_Dn_Neurocontrollerr.h5']"
      ]
     },
     "execution_count": 7,
     "metadata": {},
     "output_type": "execute_result"
    }
   ],
   "source": [
    "model_Dn_Neurocontroller.fit(X_data,Y_data.reshape(-1,))\n",
    "from joblib import dump, load\n",
    "dump(model_Dn_Neurocontroller,'model_Dn_Neurocontrollerr.h5') "
   ]
  },
  {
   "cell_type": "code",
   "execution_count": 9,
   "metadata": {},
   "outputs": [
    {
     "data": {
      "text/html": [
       "<style>#sk-container-id-2 {color: black;background-color: white;}#sk-container-id-2 pre{padding: 0;}#sk-container-id-2 div.sk-toggleable {background-color: white;}#sk-container-id-2 label.sk-toggleable__label {cursor: pointer;display: block;width: 100%;margin-bottom: 0;padding: 0.3em;box-sizing: border-box;text-align: center;}#sk-container-id-2 label.sk-toggleable__label-arrow:before {content: \"▸\";float: left;margin-right: 0.25em;color: #696969;}#sk-container-id-2 label.sk-toggleable__label-arrow:hover:before {color: black;}#sk-container-id-2 div.sk-estimator:hover label.sk-toggleable__label-arrow:before {color: black;}#sk-container-id-2 div.sk-toggleable__content {max-height: 0;max-width: 0;overflow: hidden;text-align: left;background-color: #f0f8ff;}#sk-container-id-2 div.sk-toggleable__content pre {margin: 0.2em;color: black;border-radius: 0.25em;background-color: #f0f8ff;}#sk-container-id-2 input.sk-toggleable__control:checked~div.sk-toggleable__content {max-height: 200px;max-width: 100%;overflow: auto;}#sk-container-id-2 input.sk-toggleable__control:checked~label.sk-toggleable__label-arrow:before {content: \"▾\";}#sk-container-id-2 div.sk-estimator input.sk-toggleable__control:checked~label.sk-toggleable__label {background-color: #d4ebff;}#sk-container-id-2 div.sk-label input.sk-toggleable__control:checked~label.sk-toggleable__label {background-color: #d4ebff;}#sk-container-id-2 input.sk-hidden--visually {border: 0;clip: rect(1px 1px 1px 1px);clip: rect(1px, 1px, 1px, 1px);height: 1px;margin: -1px;overflow: hidden;padding: 0;position: absolute;width: 1px;}#sk-container-id-2 div.sk-estimator {font-family: monospace;background-color: #f0f8ff;border: 1px dotted black;border-radius: 0.25em;box-sizing: border-box;margin-bottom: 0.5em;}#sk-container-id-2 div.sk-estimator:hover {background-color: #d4ebff;}#sk-container-id-2 div.sk-parallel-item::after {content: \"\";width: 100%;border-bottom: 1px solid gray;flex-grow: 1;}#sk-container-id-2 div.sk-label:hover label.sk-toggleable__label {background-color: #d4ebff;}#sk-container-id-2 div.sk-serial::before {content: \"\";position: absolute;border-left: 1px solid gray;box-sizing: border-box;top: 0;bottom: 0;left: 50%;z-index: 0;}#sk-container-id-2 div.sk-serial {display: flex;flex-direction: column;align-items: center;background-color: white;padding-right: 0.2em;padding-left: 0.2em;position: relative;}#sk-container-id-2 div.sk-item {position: relative;z-index: 1;}#sk-container-id-2 div.sk-parallel {display: flex;align-items: stretch;justify-content: center;background-color: white;position: relative;}#sk-container-id-2 div.sk-item::before, #sk-container-id-2 div.sk-parallel-item::before {content: \"\";position: absolute;border-left: 1px solid gray;box-sizing: border-box;top: 0;bottom: 0;left: 50%;z-index: -1;}#sk-container-id-2 div.sk-parallel-item {display: flex;flex-direction: column;z-index: 1;position: relative;background-color: white;}#sk-container-id-2 div.sk-parallel-item:first-child::after {align-self: flex-end;width: 50%;}#sk-container-id-2 div.sk-parallel-item:last-child::after {align-self: flex-start;width: 50%;}#sk-container-id-2 div.sk-parallel-item:only-child::after {width: 0;}#sk-container-id-2 div.sk-dashed-wrapped {border: 1px dashed gray;margin: 0 0.4em 0.5em 0.4em;box-sizing: border-box;padding-bottom: 0.4em;background-color: white;}#sk-container-id-2 div.sk-label label {font-family: monospace;font-weight: bold;display: inline-block;line-height: 1.2em;}#sk-container-id-2 div.sk-label-container {text-align: center;}#sk-container-id-2 div.sk-container {/* jupyter's `normalize.less` sets `[hidden] { display: none; }` but bootstrap.min.css set `[hidden] { display: none !important; }` so we also need the `!important` here to be able to override the default hidden behavior on the sphinx rendered scikit-learn.org. See: https://github.com/scikit-learn/scikit-learn/issues/21755 */display: inline-block !important;position: relative;}#sk-container-id-2 div.sk-text-repr-fallback {display: none;}</style><div id=\"sk-container-id-2\" class=\"sk-top-container\"><div class=\"sk-text-repr-fallback\"><pre>GradientBoostingRegressor(learning_rate=0.2, n_estimators=200)</pre><b>In a Jupyter environment, please rerun this cell to show the HTML representation or trust the notebook. <br />On GitHub, the HTML representation is unable to render, please try loading this page with nbviewer.org.</b></div><div class=\"sk-container\" hidden><div class=\"sk-item\"><div class=\"sk-estimator sk-toggleable\"><input class=\"sk-toggleable__control sk-hidden--visually\" id=\"sk-estimator-id-2\" type=\"checkbox\" checked><label for=\"sk-estimator-id-2\" class=\"sk-toggleable__label sk-toggleable__label-arrow\">GradientBoostingRegressor</label><div class=\"sk-toggleable__content\"><pre>GradientBoostingRegressor(learning_rate=0.2, n_estimators=200)</pre></div></div></div></div></div>"
      ],
      "text/plain": [
       "GradientBoostingRegressor(learning_rate=0.2, n_estimators=200)"
      ]
     },
     "execution_count": 9,
     "metadata": {},
     "output_type": "execute_result"
    }
   ],
   "source": [
    "load(\"model_Dn_Neurocontroller.h5\")"
   ]
  },
  {
   "cell_type": "code",
   "execution_count": 6,
   "metadata": {},
   "outputs": [
    {
     "data": {
      "text/plain": [
       "{'fit_time': array([4.48199868, 3.59200048, 3.20201516, 3.93703675, 3.07702374,\n",
       "        2.92201614, 3.01200294, 3.1650033 , 3.10498095, 3.29193258]),\n",
       " 'score_time': array([0.00800204, 0.00499988, 0.00598836, 0.00497842, 0.00597548,\n",
       "        0.00598383, 0.00501895, 0.00501633, 0.00502014, 0.00699902]),\n",
       " 'test_score': array([-4.82437778, -5.3874161 , -6.41881362, -7.94963541, -6.16172313,\n",
       "        -6.98955581, -5.50988139, -5.96836921, -6.15008561, -6.62899859]),\n",
       " 'train_score': array([-3.26415819, -3.39560446, -3.23054072, -3.73072769, -3.11365715,\n",
       "        -3.09123114, -3.23161426, -3.33666839, -3.63300167, -3.23924894])}"
      ]
     },
     "execution_count": 6,
     "metadata": {},
     "output_type": "execute_result"
    }
   ],
   "source": [
    "Dn_Neurocontroller"
   ]
  },
  {
   "cell_type": "code",
   "execution_count": 7,
   "metadata": {
    "tags": []
   },
   "outputs": [
    {
     "name": "stdout",
     "output_type": "stream",
     "text": [
      "test scores:\n",
      " [4.824377779383918, 5.387416097740316, 6.418813615737888, 7.949635406860841, 6.161723125382263, 6.989555808599139, 5.509881391603634, 5.968369212671107, 6.150085614667466, 6.628998591638668]\n",
      "mean:   6.198885664428524\n",
      "\n",
      "\n",
      "\n",
      "train scores:\n",
      " [3.2641581867169367, 3.39560446109949, 3.2305407182318917, 3.7307276901474182, 3.113657152091507, 3.0912311375422665, 3.231614261286296, 3.336668389616115, 3.633001668710598, 3.239248940293769]\n",
      "mean:   3.326645260573629\n"
     ]
    }
   ],
   "source": [
    "print(\"test scores:\\n\",list(map(abs,Dn_Neurocontroller[\"test_score\"])))\n",
    "print(\"mean:  \",abs(np.mean(Dn_Neurocontroller[\"test_score\"])) )\n",
    "print(\"\\n\\n\")\n",
    "print(\"train scores:\\n\",list(map(abs,Dn_Neurocontroller[\"train_score\"])))\n",
    "print(\"mean:  \",abs(np.mean(Dn_Neurocontroller[\"train_score\"]) ))\n"
   ]
  },
  {
   "cell_type": "code",
   "execution_count": 8,
   "metadata": {},
   "outputs": [
    {
     "name": "stderr",
     "output_type": "stream",
     "text": [
      "c:\\Users\\aminr\\anaconda3\\lib\\site-packages\\sklearn\\ensemble\\_gb.py:437: DataConversionWarning: A column-vector y was passed when a 1d array was expected. Please change the shape of y to (n_samples, ), for example using ravel().\n",
      "  y = column_or_1d(y, warn=True)\n"
     ]
    }
   ],
   "source": [
    "from sklearn.model_selection import train_test_split\n",
    "X_train, X_test, y_train, y_test = train_test_split(X_data, Y_data, test_size=0.01)\n",
    "model_Dn_Neurocontroller= GradientBoostingRegressor( learning_rate=0.2, max_depth=3, n_estimators=200)\n",
    "model_Dn_Neurocontroller.fit(X_train,y_train)\n",
    "y_pred=model_Dn_Neurocontroller.predict(X_test)"
   ]
  },
  {
   "cell_type": "code",
   "execution_count": 9,
   "metadata": {},
   "outputs": [
    {
     "data": {
      "text/plain": [
       "['model_Dn_Neurocontroller.h5']"
      ]
     },
     "execution_count": 9,
     "metadata": {},
     "output_type": "execute_result"
    }
   ],
   "source": [
    "from joblib import dump, load\n",
    "dump(model_Dn_Neurocontroller,'model_Dn_Neurocontroller.h5') "
   ]
  },
  {
   "cell_type": "code",
   "execution_count": 10,
   "metadata": {},
   "outputs": [
    {
     "data": {
      "image/png": "[encoded data removed]",
      "text/plain": [
       "<Figure size 432x288 with 1 Axes>"
      ]
     },
     "metadata": {
      "needs_background": "light"
     },
     "output_type": "display_data"
    }
   ],
   "source": [
    "#plots\n",
    "plt.scatter(list(range(len(y_pred))),y_test, c= ('red'))\n",
    "plt.scatter(list(range(len(y_pred))),y_pred, c= ('blue'),alpha=0.3,s=200)\n",
    "plt.xlabel('x_test')\n",
    "plt.ylabel('Energy value / kJ/kg')\n",
    "plt.legend(['ActualValue', 'PredictedValue'])\n",
    "plt.show()"
   ]
  }
 ],
 "metadata": {
  "kernelspec": {
   "display_name": "base",
   "language": "python",
   "name": "python3"
  },
  "language_info": {
   "codemirror_mode": {
    "name": "ipython",
    "version": 3
   },
   "file_extension": ".py",
   "mimetype": "text/x-python",
   "name": "python",
   "nbconvert_exporter": "python",
   "pygments_lexer": "ipython3",
   "version": "3.9.7 (default, Sep 16 2021, 16:59:28) [MSC v.1916 64 bit (AMD64)]"
  },
  "vscode": {
   "interpreter": {
    "hash": "7287290b0480c475e07faa8d8f2642b950c35b54c7904c27a4cb3f03b8542e7d"
   }
  }
 },
 "nbformat": 4,
 "nbformat_minor": 4
}
