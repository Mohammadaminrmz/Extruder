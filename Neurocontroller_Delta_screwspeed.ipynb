{
 "cells": [
  {
   "cell_type": "code",
   "execution_count": 5,
   "metadata": {},
   "outputs": [],
   "source": [
    "import numpy as np\n",
    "import pandas as pd\n",
    "import matplotlib.pyplot as plt\n",
    "from sklearn.model_selection import train_test_split\n",
    "from sklearn.preprocessing import MinMaxScaler\n",
    "from sklearn.ensemble import GradientBoostingRegressor\n",
    "from sklearn.model_selection import cross_validate"
   ]
  },
  {
   "cell_type": "code",
   "execution_count": 8,
   "metadata": {},
   "outputs": [],
   "source": [
    "df = pd.read_excel('neurocontroller_model.xlsx', dtype=np.float32)"
   ]
  },
  {
   "cell_type": "code",
   "execution_count": 9,
   "metadata": {},
   "outputs": [
    {
     "data": {
      "text/html": [
       "<div>\n",
       "<style scoped>\n",
       "    .dataframe tbody tr th:only-of-type {\n",
       "        vertical-align: middle;\n",
       "    }\n",
       "\n",
       "    .dataframe tbody tr th {\n",
       "        vertical-align: top;\n",
       "    }\n",
       "\n",
       "    .dataframe thead th {\n",
       "        text-align: right;\n",
       "    }\n",
       "</style>\n",
       "<table border=\"1\" class=\"dataframe\">\n",
       "  <thead>\n",
       "    <tr style=\"text-align: right;\">\n",
       "      <th></th>\n",
       "      <th>mass_flow(kg/h)</th>\n",
       "      <th>Energy_ref</th>\n",
       "      <th>Torque_ref</th>\n",
       "      <th>screw_speed(rpm)</th>\n",
       "      <th>solid_content(%)</th>\n",
       "      <th>Energy(kJ/kg)</th>\n",
       "      <th>Torque(N.m)</th>\n",
       "      <th>∆𝒏</th>\n",
       "      <th>∆𝑐_𝑚</th>\n",
       "    </tr>\n",
       "  </thead>\n",
       "  <tbody>\n",
       "    <tr>\n",
       "      <th>0</th>\n",
       "      <td>2.28</td>\n",
       "      <td>6552.149414</td>\n",
       "      <td>2.972</td>\n",
       "      <td>800.0</td>\n",
       "      <td>70.0</td>\n",
       "      <td>6552.149414</td>\n",
       "      <td>2.972000</td>\n",
       "      <td>0.0</td>\n",
       "      <td>0.0</td>\n",
       "    </tr>\n",
       "    <tr>\n",
       "      <th>1</th>\n",
       "      <td>2.28</td>\n",
       "      <td>6552.149414</td>\n",
       "      <td>2.972</td>\n",
       "      <td>1000.0</td>\n",
       "      <td>70.0</td>\n",
       "      <td>9031.174805</td>\n",
       "      <td>3.277172</td>\n",
       "      <td>-200.0</td>\n",
       "      <td>0.0</td>\n",
       "    </tr>\n",
       "    <tr>\n",
       "      <th>2</th>\n",
       "      <td>2.28</td>\n",
       "      <td>6552.149414</td>\n",
       "      <td>2.972</td>\n",
       "      <td>1200.0</td>\n",
       "      <td>70.0</td>\n",
       "      <td>8612.666016</td>\n",
       "      <td>2.604422</td>\n",
       "      <td>-400.0</td>\n",
       "      <td>0.0</td>\n",
       "    </tr>\n",
       "    <tr>\n",
       "      <th>3</th>\n",
       "      <td>2.28</td>\n",
       "      <td>6552.149414</td>\n",
       "      <td>2.972</td>\n",
       "      <td>800.0</td>\n",
       "      <td>72.5</td>\n",
       "      <td>7118.958984</td>\n",
       "      <td>3.229100</td>\n",
       "      <td>0.0</td>\n",
       "      <td>-2.5</td>\n",
       "    </tr>\n",
       "    <tr>\n",
       "      <th>4</th>\n",
       "      <td>2.28</td>\n",
       "      <td>6552.149414</td>\n",
       "      <td>2.972</td>\n",
       "      <td>1000.0</td>\n",
       "      <td>72.5</td>\n",
       "      <td>9297.460938</td>\n",
       "      <td>3.373800</td>\n",
       "      <td>-200.0</td>\n",
       "      <td>-2.5</td>\n",
       "    </tr>\n",
       "  </tbody>\n",
       "</table>\n",
       "</div>"
      ],
      "text/plain": [
       "   mass_flow(kg/h)   Energy_ref  Torque_ref  screw_speed(rpm)  \\\n",
       "0             2.28  6552.149414       2.972             800.0   \n",
       "1             2.28  6552.149414       2.972            1000.0   \n",
       "2             2.28  6552.149414       2.972            1200.0   \n",
       "3             2.28  6552.149414       2.972             800.0   \n",
       "4             2.28  6552.149414       2.972            1000.0   \n",
       "\n",
       "   solid_content(%)  Energy(kJ/kg)  Torque(N.m)     ∆𝒏  ∆𝑐_𝑚  \n",
       "0              70.0    6552.149414     2.972000    0.0   0.0  \n",
       "1              70.0    9031.174805     3.277172 -200.0   0.0  \n",
       "2              70.0    8612.666016     2.604422 -400.0   0.0  \n",
       "3              72.5    7118.958984     3.229100    0.0  -2.5  \n",
       "4              72.5    9297.460938     3.373800 -200.0  -2.5  "
      ]
     },
     "execution_count": 9,
     "metadata": {},
     "output_type": "execute_result"
    }
   ],
   "source": [
    "df.head(5)"
   ]
  },
  {
   "cell_type": "code",
   "execution_count": 10,
   "metadata": {},
   "outputs": [],
   "source": [
    "#define inputs and outputs\n",
    "df = df.sample(frac=1)\n",
    "X1_data = df[['mass_flow(kg/h)','Energy_ref','Torque_ref','Energy(kJ/kg)','Torque(N.m)']]\n",
    "Y1_data = df[['∆𝒏']]   #∆𝒏: Screw_speed                     \n",
    "\n",
    "X_data = X1_data.values\n",
    "Y_data= Y1_data.values\n",
    "# normalize data\n",
    "scaler = MinMaxScaler()\n",
    "X_data = scaler.fit_transform(X_data)\n",
    "    "
   ]
  },
  {
   "cell_type": "markdown",
   "metadata": {},
   "source": [
    "# SKLearnModel"
   ]
  },
  {
   "cell_type": "code",
   "execution_count": 15,
   "metadata": {},
   "outputs": [],
   "source": [
    "model_Dn_Neurocontroller= GradientBoostingRegressor(n_estimators =2000 , learning_rate = 0.2,max_depth=2)\n",
    "Dn_Neurocontroller = cross_validate(model_Dn_Neurocontroller,X_data,Y_data.reshape(-1,),cv=10,scoring=('neg_mean_absolute_error'),return_train_score=True)"
   ]
  },
  {
   "cell_type": "code",
   "execution_count": 16,
   "metadata": {},
   "outputs": [
    {
     "data": {
      "text/plain": [
       "{'fit_time': array([1.31149054, 1.32647586, 1.28259373, 1.51098108, 1.63743234,\n",
       "        1.27159405, 1.22471714, 1.26259136, 1.23865771, 1.23668933]),\n",
       " 'score_time': array([0.00402522, 0.00399685, 0.00400019, 0.00496054, 0.00498247,\n",
       "        0.00398874, 0.0040009 , 0.00498915, 0.00401568, 0.00398898]),\n",
       " 'test_score': array([-6.78016519, -6.2109274 , -5.52199628, -6.81293401, -4.85269163,\n",
       "        -6.1905598 , -7.28683834, -8.29221472, -6.80037288, -4.23069375]),\n",
       " 'train_score': array([-3.26876942, -3.29826025, -3.35386338, -2.86044588, -3.11076221,\n",
       "        -3.35816396, -3.25903237, -3.48181487, -3.09863917, -2.76068816])}"
      ]
     },
     "execution_count": 16,
     "metadata": {},
     "output_type": "execute_result"
    }
   ],
   "source": [
    "Dn_Neurocontroller"
   ]
  },
  {
   "cell_type": "code",
   "execution_count": 17,
   "metadata": {
    "tags": []
   },
   "outputs": [
    {
     "name": "stdout",
     "output_type": "stream",
     "text": [
      "test scores:\n",
      " [6.78016518781208, 6.210927401610777, 5.521996277657002, 6.812934014446708, 4.852691625568571, 6.190559799417589, 7.286838344774701, 8.292214718367536, 6.80037288308739, 4.230693745665577]\n",
      "mean:   6.297939399840793\n",
      "\n",
      "\n",
      "\n",
      "train scores:\n",
      " [3.268769417325148, 3.298260245972326, 3.3538633847933257, 2.8604458832562507, 3.1107622089587927, 3.3581639647698944, 3.2590323742237346, 3.4818148655193113, 3.0986391670138507, 2.7606881561662173]\n",
      "mean:   3.1850439667998853\n"
     ]
    }
   ],
   "source": [
    "print(\"test scores:\\n\",list(map(abs,Dn_Neurocontroller[\"test_score\"])))\n",
    "print(\"mean:  \",abs(np.mean(Dn_Neurocontroller[\"test_score\"])) )\n",
    "print(\"\\n\\n\")\n",
    "print(\"train scores:\\n\",list(map(abs,Dn_Neurocontroller[\"train_score\"])))\n",
    "print(\"mean:  \",abs(np.mean(Dn_Neurocontroller[\"train_score\"]) ))\n"
   ]
  },
  {
   "cell_type": "code",
   "execution_count": 38,
   "metadata": {},
   "outputs": [
    {
     "name": "stderr",
     "output_type": "stream",
     "text": [
      "C:\\Users\\Mahtab\\anaconda3\\lib\\site-packages\\sklearn\\utils\\validation.py:72: DataConversionWarning: A column-vector y was passed when a 1d array was expected. Please change the shape of y to (n_samples, ), for example using ravel().\n",
      "  return f(**kwargs)\n"
     ]
    }
   ],
   "source": [
    "from sklearn.model_selection import train_test_split\n",
    "X_train, X_test, y_train, y_test = train_test_split(X_data, Y_data, test_size=0.01)\n",
    "model_Dn_Neurocontroller= GradientBoostingRegressor( learning_rate=0.2, max_depth=3, n_estimators=200)\n",
    "model_Dn_Neurocontroller.fit(X_train,y_train)\n",
    "y_pred=model_Dn_Neurocontroller.predict(X_test)"
   ]
  },
  {
   "cell_type": "code",
   "execution_count": 41,
   "metadata": {},
   "outputs": [
    {
     "data": {
      "text/plain": [
       "['model_Dn_Neurocontroller.h5']"
      ]
     },
     "execution_count": 41,
     "metadata": {},
     "output_type": "execute_result"
    }
   ],
   "source": [
    "from joblib import dump, load\n",
    "dump(model_Dn_Neurocontroller,'model_Dn_Neurocontroller.h5') "
   ]
  },
  {
   "cell_type": "code",
   "execution_count": 39,
   "metadata": {},
   "outputs": [
    {
     "data": {
      "image/png": "[encoded data removed]",
      "text/plain": [
       "<Figure size 432x288 with 1 Axes>"
      ]
     },
     "metadata": {
      "needs_background": "light"
     },
     "output_type": "display_data"
    }
   ],
   "source": [
    "#plots\n",
    "plt.scatter(list(range(len(y_pred))),y_test, c= ('red'))\n",
    "plt.scatter(list(range(len(y_pred))),y_pred, c= ('blue'),alpha=0.3,s=200)\n",
    "plt.xlabel('x_test')\n",
    "plt.ylabel('Energy value / kJ/kg')\n",
    "plt.legend(['ActualValue', 'PredictedValue'])\n",
    "plt.show()"
   ]
  }
 ],
 "metadata": {
  "kernelspec": {
   "display_name": "Python 3",
   "language": "python",
   "name": "python3"
  },
  "language_info": {
   "codemirror_mode": {
    "name": "ipython",
    "version": 3
   },
   "file_extension": ".py",
   "mimetype": "text/x-python",
   "name": "python",
   "nbconvert_exporter": "python",
   "pygments_lexer": "ipython3",
   "version": "3.8.5"
  }
 },
 "nbformat": 4,
 "nbformat_minor": 4
}
