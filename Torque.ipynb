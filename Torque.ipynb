{
 "cells": [
  {
   "cell_type": "markdown",
   "metadata": {
    "tags": []
   },
   "source": [
    "# Corrected overfitting issue"
   ]
  },
  {
   "cell_type": "code",
   "execution_count": 1,
   "metadata": {},
   "outputs": [
    {
     "name": "stderr",
     "output_type": "stream",
     "text": [
      "<frozen importlib._bootstrap>:228: RuntimeWarning: scipy._lib.messagestream.MessageStream size changed, may indicate binary incompatibility. Expected 56 from C header, got 64 from PyObject\n"
     ]
    }
   ],
   "source": [
    "from sklearn.ensemble import GradientBoostingRegressor\n",
    "from sklearn.model_selection import cross_validate\n",
    "import numpy as np\n",
    "import pandas as pd\n",
    "import seaborn as sns\n",
    "import matplotlib.pyplot as plt\n",
    "from sklearn.preprocessing import MinMaxScaler\n",
    "from sklearn.metrics import mean_absolute_error\n",
    "from pandas.core.computation.check import NUMEXPR_INSTALLED"
   ]
  },
  {
   "cell_type": "code",
   "execution_count": 2,
   "metadata": {},
   "outputs": [],
   "source": [
    "data = pd.read_excel(\"Extruder_model.xlsx\")\n",
    "data = data.sample(frac=1)\n",
    "X_data = data.drop([\"Energy(kJ/kg)\" , \"Torque(N.m)\"],axis=1)\n",
    "Y_data = data[\"Torque(N.m)\"].values\n",
    "scaler = MinMaxScaler()\n",
    "X_data = scaler.fit_transform(X_data)"
   ]
  },
  {
   "cell_type": "code",
   "execution_count": 3,
   "metadata": {},
   "outputs": [
    {
     "data": {
      "text/html": [
       "<div>\n",
       "<style scoped>\n",
       "    .dataframe tbody tr th:only-of-type {\n",
       "        vertical-align: middle;\n",
       "    }\n",
       "\n",
       "    .dataframe tbody tr th {\n",
       "        vertical-align: top;\n",
       "    }\n",
       "\n",
       "    .dataframe thead th {\n",
       "        text-align: right;\n",
       "    }\n",
       "</style>\n",
       "<table border=\"1\" class=\"dataframe\">\n",
       "  <thead>\n",
       "    <tr style=\"text-align: right;\">\n",
       "      <th></th>\n",
       "      <th>mass_flow(kg/h)</th>\n",
       "      <th>screw_speed(rpm)</th>\n",
       "      <th>solid_content(%)</th>\n",
       "      <th>Energy(kJ/kg)</th>\n",
       "      <th>Torque(N.m)</th>\n",
       "    </tr>\n",
       "  </thead>\n",
       "  <tbody>\n",
       "    <tr>\n",
       "      <th>count</th>\n",
       "      <td>68.000000</td>\n",
       "      <td>68.000000</td>\n",
       "      <td>68.000000</td>\n",
       "      <td>68.000000</td>\n",
       "      <td>68.000000</td>\n",
       "    </tr>\n",
       "    <tr>\n",
       "      <th>mean</th>\n",
       "      <td>5.332647</td>\n",
       "      <td>988.235294</td>\n",
       "      <td>77.610294</td>\n",
       "      <td>7960.984037</td>\n",
       "      <td>5.404571</td>\n",
       "    </tr>\n",
       "    <tr>\n",
       "      <th>std</th>\n",
       "      <td>2.804795</td>\n",
       "      <td>154.078301</td>\n",
       "      <td>5.231289</td>\n",
       "      <td>5065.404788</td>\n",
       "      <td>2.038853</td>\n",
       "    </tr>\n",
       "    <tr>\n",
       "      <th>min</th>\n",
       "      <td>2.280000</td>\n",
       "      <td>800.000000</td>\n",
       "      <td>70.000000</td>\n",
       "      <td>2223.132691</td>\n",
       "      <td>2.604422</td>\n",
       "    </tr>\n",
       "    <tr>\n",
       "      <th>25%</th>\n",
       "      <td>2.280000</td>\n",
       "      <td>800.000000</td>\n",
       "      <td>72.500000</td>\n",
       "      <td>4319.000879</td>\n",
       "      <td>3.815900</td>\n",
       "    </tr>\n",
       "    <tr>\n",
       "      <th>50%</th>\n",
       "      <td>4.560000</td>\n",
       "      <td>1000.000000</td>\n",
       "      <td>77.500000</td>\n",
       "      <td>6556.696661</td>\n",
       "      <td>4.723950</td>\n",
       "    </tr>\n",
       "    <tr>\n",
       "      <th>75%</th>\n",
       "      <td>6.840000</td>\n",
       "      <td>1200.000000</td>\n",
       "      <td>82.500000</td>\n",
       "      <td>9921.835621</td>\n",
       "      <td>6.730930</td>\n",
       "    </tr>\n",
       "    <tr>\n",
       "      <th>max</th>\n",
       "      <td>13.680000</td>\n",
       "      <td>1200.000000</td>\n",
       "      <td>85.000000</td>\n",
       "      <td>26857.971178</td>\n",
       "      <td>10.582000</td>\n",
       "    </tr>\n",
       "  </tbody>\n",
       "</table>\n",
       "</div>"
      ],
      "text/plain": [
       "       mass_flow(kg/h)  screw_speed(rpm)  solid_content(%)  Energy(kJ/kg)  \\\n",
       "count        68.000000         68.000000         68.000000      68.000000   \n",
       "mean          5.332647        988.235294         77.610294    7960.984037   \n",
       "std           2.804795        154.078301          5.231289    5065.404788   \n",
       "min           2.280000        800.000000         70.000000    2223.132691   \n",
       "25%           2.280000        800.000000         72.500000    4319.000879   \n",
       "50%           4.560000       1000.000000         77.500000    6556.696661   \n",
       "75%           6.840000       1200.000000         82.500000    9921.835621   \n",
       "max          13.680000       1200.000000         85.000000   26857.971178   \n",
       "\n",
       "       Torque(N.m)  \n",
       "count    68.000000  \n",
       "mean      5.404571  \n",
       "std       2.038853  \n",
       "min       2.604422  \n",
       "25%       3.815900  \n",
       "50%       4.723950  \n",
       "75%       6.730930  \n",
       "max      10.582000  "
      ]
     },
     "execution_count": 3,
     "metadata": {},
     "output_type": "execute_result"
    }
   ],
   "source": [
    "data.describe()"
   ]
  },
  {
   "cell_type": "code",
   "execution_count": 39,
   "metadata": {},
   "outputs": [],
   "source": [
    "def grid_search(max_depths:list,n_estimators :list,cv:int =5):\n",
    "    df = pd.DataFrame()\n",
    "    for n_estimator in n_estimators:\n",
    "    \n",
    "        for md in max_depths:\n",
    "            \n",
    "            model_GradientBoostingRegressor= GradientBoostingRegressor( learning_rate=0.2, max_depth=md, n_estimators=n_estimator)\n",
    "            cv_results = cross_validate(model_GradientBoostingRegressor,X_data,Y_data.reshape(-1,),cv=cv,scoring=('neg_mean_absolute_error'),return_train_score=True)\n",
    "            for i in range(cv):\n",
    "                df = pd.concat( [df,pd.DataFrame(data={\"max_depth\":md,\"n_estimators\" :n_estimator , \"cv_result\" :[-1*cv_results[\"train_score\"][i]] , \"type\" : \"train\"})],axis =0)\n",
    "            for i in range(cv):\n",
    "                df = pd.concat( [df,pd.DataFrame(data={\"max_depth\":md,\"n_estimators\" :n_estimator , \"cv_result\" :[-1*cv_results[\"test_score\"][i]] , \"type\" : \"test\"})],axis =0)\n",
    "\n",
    "    \n",
    "    return df"
   ]
  },
  {
   "cell_type": "code",
   "execution_count": 40,
   "metadata": {},
   "outputs": [],
   "source": [
    "cv_gs_results = grid_search([1,2,3],[10,50,100,150,200,300],cv=10)\n",
    "cv_gs_results.sort_values([\"n_estimators\",\"max_depth\"],inplace=True)\n",
    "cv_gs_results[\"md_nes\"] = cv_gs_results.apply(lambda x:(x.max_depth , x.n_estimators),axis=1)"
   ]
  },
  {
   "cell_type": "code",
   "execution_count": 41,
   "metadata": {},
   "outputs": [
    {
     "data": {
      "image/png": "[encoded data removed]",
      "text/plain": [
       "<Figure size 720x360 with 1 Axes>"
      ]
     },
     "metadata": {
      "needs_background": "light"
     },
     "output_type": "display_data"
    }
   ],
   "source": [
    "ax, fig  = plt.subplots(1,1,figsize = (10,5))\n",
    "ax = sns.barplot(data=cv_gs_results , x =cv_gs_results[\"md_nes\"] , y = \"cv_result\" ,hue = \"type\" )\n",
    "ax.set_xticklabels(ax.get_xticklabels() ,rotation = 90);"
   ]
  },
  {
   "cell_type": "code",
   "execution_count": 42,
   "metadata": {},
   "outputs": [],
   "source": [
    "df_plt = cv_gs_results.groupby([\"md_nes\", \"type\"],as_index=False).mean().drop([\"max_depth\" , \"n_estimators\"],axis=1)"
   ]
  },
  {
   "cell_type": "code",
   "execution_count": 43,
   "metadata": {},
   "outputs": [
    {
     "data": {
      "image/png": "[encoded data removed]",
      "text/plain": [
       "<Figure size 720x360 with 1 Axes>"
      ]
     },
     "metadata": {
      "needs_background": "light"
     },
     "output_type": "display_data"
    }
   ],
   "source": [
    "plt.figure(figsize=(10,5))\n",
    "plt.plot(list(map(str,df_plt[df_plt[\"type\"] == \"train\"].md_nes.values)),  list(df_plt[df_plt[\"type\"] == \"train\"].cv_result.values),label = \"train_values\")\n",
    "plt.plot(list(map(str,df_plt[df_plt[\"type\"] == \"test\"].md_nes.values)),  list(df_plt[df_plt[\"type\"] == \"test\"].cv_result.values),label = \"test_values\")\n",
    "plt.xticks(rotation = 90)\n",
    "plt.xlabel(\"(max_depth, n_estimator)\")\n",
    "plt.ylabel(\"Mean Absolute Error\")\n",
    "plt.legend()\n",
    "plt.grid(which = \"both\")"
   ]
  },
  {
   "cell_type": "code",
   "execution_count": 4,
   "metadata": {},
   "outputs": [],
   "source": [
    "model_Torque= GradientBoostingRegressor( learning_rate=0.2, max_depth=1, n_estimators=100)\n",
    "Torque = cross_validate(model_Torque,X_data,Y_data.reshape(-1,),cv=10,scoring=('neg_mean_absolute_error'),return_train_score=True)"
   ]
  },
  {
   "cell_type": "code",
   "execution_count": 5,
   "metadata": {},
   "outputs": [
    {
     "name": "stdout",
     "output_type": "stream",
     "text": [
      "test scores:\n",
      " [0.098322532899708, 0.30452112747186005, 0.20165464644024209, 0.3503515472829425, 0.1851480881374982, 0.5882940724003113, 0.24879245663982172, 0.3263489867795191, 0.8155345510408248, 0.19114553318936936]\n",
      "mean:   0.3310113542282097\n",
      "\n",
      "\n",
      "\n",
      "train scores:\n",
      " [0.25007029798293207, 0.22666687329650143, 0.2314926005058039, 0.2218407117906677, 0.244682860686099, 0.1980526011398866, 0.23520278745120818, 0.22635793594834336, 0.18992980149211805, 0.24547554468926733]\n",
      "mean:   0.22697720149828277\n"
     ]
    }
   ],
   "source": [
    "print(\"test scores:\\n\",list(map(abs,Torque[\"test_score\"])))\n",
    "print(\"mean:  \",abs(np.mean(Torque[\"test_score\"])) )\n",
    "print(\"\\n\\n\")\n",
    "print(\"train scores:\\n\",list(map(abs,Torque[\"train_score\"])))\n",
    "print(\"mean:  \",abs(np.mean(Torque[\"train_score\"]) ))\n"
   ]
  },
  {
   "cell_type": "code",
   "execution_count": 6,
   "metadata": {},
   "outputs": [
    {
     "data": {
      "text/html": [
       "<style>#sk-container-id-1 {color: black;background-color: white;}#sk-container-id-1 pre{padding: 0;}#sk-container-id-1 div.sk-toggleable {background-color: white;}#sk-container-id-1 label.sk-toggleable__label {cursor: pointer;display: block;width: 100%;margin-bottom: 0;padding: 0.3em;box-sizing: border-box;text-align: center;}#sk-container-id-1 label.sk-toggleable__label-arrow:before {content: \"▸\";float: left;margin-right: 0.25em;color: #696969;}#sk-container-id-1 label.sk-toggleable__label-arrow:hover:before {color: black;}#sk-container-id-1 div.sk-estimator:hover label.sk-toggleable__label-arrow:before {color: black;}#sk-container-id-1 div.sk-toggleable__content {max-height: 0;max-width: 0;overflow: hidden;text-align: left;background-color: #f0f8ff;}#sk-container-id-1 div.sk-toggleable__content pre {margin: 0.2em;color: black;border-radius: 0.25em;background-color: #f0f8ff;}#sk-container-id-1 input.sk-toggleable__control:checked~div.sk-toggleable__content {max-height: 200px;max-width: 100%;overflow: auto;}#sk-container-id-1 input.sk-toggleable__control:checked~label.sk-toggleable__label-arrow:before {content: \"▾\";}#sk-container-id-1 div.sk-estimator input.sk-toggleable__control:checked~label.sk-toggleable__label {background-color: #d4ebff;}#sk-container-id-1 div.sk-label input.sk-toggleable__control:checked~label.sk-toggleable__label {background-color: #d4ebff;}#sk-container-id-1 input.sk-hidden--visually {border: 0;clip: rect(1px 1px 1px 1px);clip: rect(1px, 1px, 1px, 1px);height: 1px;margin: -1px;overflow: hidden;padding: 0;position: absolute;width: 1px;}#sk-container-id-1 div.sk-estimator {font-family: monospace;background-color: #f0f8ff;border: 1px dotted black;border-radius: 0.25em;box-sizing: border-box;margin-bottom: 0.5em;}#sk-container-id-1 div.sk-estimator:hover {background-color: #d4ebff;}#sk-container-id-1 div.sk-parallel-item::after {content: \"\";width: 100%;border-bottom: 1px solid gray;flex-grow: 1;}#sk-container-id-1 div.sk-label:hover label.sk-toggleable__label {background-color: #d4ebff;}#sk-container-id-1 div.sk-serial::before {content: \"\";position: absolute;border-left: 1px solid gray;box-sizing: border-box;top: 0;bottom: 0;left: 50%;z-index: 0;}#sk-container-id-1 div.sk-serial {display: flex;flex-direction: column;align-items: center;background-color: white;padding-right: 0.2em;padding-left: 0.2em;position: relative;}#sk-container-id-1 div.sk-item {position: relative;z-index: 1;}#sk-container-id-1 div.sk-parallel {display: flex;align-items: stretch;justify-content: center;background-color: white;position: relative;}#sk-container-id-1 div.sk-item::before, #sk-container-id-1 div.sk-parallel-item::before {content: \"\";position: absolute;border-left: 1px solid gray;box-sizing: border-box;top: 0;bottom: 0;left: 50%;z-index: -1;}#sk-container-id-1 div.sk-parallel-item {display: flex;flex-direction: column;z-index: 1;position: relative;background-color: white;}#sk-container-id-1 div.sk-parallel-item:first-child::after {align-self: flex-end;width: 50%;}#sk-container-id-1 div.sk-parallel-item:last-child::after {align-self: flex-start;width: 50%;}#sk-container-id-1 div.sk-parallel-item:only-child::after {width: 0;}#sk-container-id-1 div.sk-dashed-wrapped {border: 1px dashed gray;margin: 0 0.4em 0.5em 0.4em;box-sizing: border-box;padding-bottom: 0.4em;background-color: white;}#sk-container-id-1 div.sk-label label {font-family: monospace;font-weight: bold;display: inline-block;line-height: 1.2em;}#sk-container-id-1 div.sk-label-container {text-align: center;}#sk-container-id-1 div.sk-container {/* jupyter's `normalize.less` sets `[hidden] { display: none; }` but bootstrap.min.css set `[hidden] { display: none !important; }` so we also need the `!important` here to be able to override the default hidden behavior on the sphinx rendered scikit-learn.org. See: https://github.com/scikit-learn/scikit-learn/issues/21755 */display: inline-block !important;position: relative;}#sk-container-id-1 div.sk-text-repr-fallback {display: none;}</style><div id=\"sk-container-id-1\" class=\"sk-top-container\"><div class=\"sk-text-repr-fallback\"><pre>GradientBoostingRegressor(learning_rate=0.2, max_depth=1)</pre><b>In a Jupyter environment, please rerun this cell to show the HTML representation or trust the notebook. <br />On GitHub, the HTML representation is unable to render, please try loading this page with nbviewer.org.</b></div><div class=\"sk-container\" hidden><div class=\"sk-item\"><div class=\"sk-estimator sk-toggleable\"><input class=\"sk-toggleable__control sk-hidden--visually\" id=\"sk-estimator-id-1\" type=\"checkbox\" checked><label for=\"sk-estimator-id-1\" class=\"sk-toggleable__label sk-toggleable__label-arrow\">GradientBoostingRegressor</label><div class=\"sk-toggleable__content\"><pre>GradientBoostingRegressor(learning_rate=0.2, max_depth=1)</pre></div></div></div></div></div>"
      ],
      "text/plain": [
       "GradientBoostingRegressor(learning_rate=0.2, max_depth=1)"
      ]
     },
     "execution_count": 6,
     "metadata": {},
     "output_type": "execute_result"
    }
   ],
   "source": [
    "model_Torque.fit(X_data,Y_data)"
   ]
  },
  {
   "cell_type": "code",
   "execution_count": 7,
   "metadata": {},
   "outputs": [
    {
     "data": {
      "text/plain": [
       "['model_Torque.h5']"
      ]
     },
     "execution_count": 7,
     "metadata": {},
     "output_type": "execute_result"
    }
   ],
   "source": [
    "from joblib import dump, load\n",
    "dump(model_Torque,'model_Torque.h5') "
   ]
  }
 ],
 "metadata": {
  "kernelspec": {
   "display_name": "base",
   "language": "python",
   "name": "python3"
  },
  "language_info": {
   "codemirror_mode": {
    "name": "ipython",
    "version": 3
   },
   "file_extension": ".py",
   "mimetype": "text/x-python",
   "name": "python",
   "nbconvert_exporter": "python",
   "pygments_lexer": "ipython3",
   "version": "3.9.7"
  },
  "vscode": {
   "interpreter": {
    "hash": "7287290b0480c475e07faa8d8f2642b950c35b54c7904c27a4cb3f03b8542e7d"
   }
  }
 },
 "nbformat": 4,
 "nbformat_minor": 4
}
