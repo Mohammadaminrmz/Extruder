{
 "cells": [
  {
   "cell_type": "markdown",
   "metadata": {
    "tags": []
   },
   "source": [
    "# Corrected overfitting issue"
   ]
  },
  {
   "cell_type": "code",
   "execution_count": 1,
   "metadata": {},
   "outputs": [
    {
     "name": "stderr",
     "output_type": "stream",
     "text": [
      "<frozen importlib._bootstrap>:228: RuntimeWarning: scipy._lib.messagestream.MessageStream size changed, may indicate binary incompatibility. Expected 56 from C header, got 64 from PyObject\n"
     ]
    }
   ],
   "source": [
    "from sklearn.ensemble import GradientBoostingRegressor\n",
    "from sklearn.model_selection import cross_validate\n",
    "import numpy as np\n",
    "import pandas as pd\n",
    "import seaborn as sns\n",
    "import matplotlib.pyplot as plt\n",
    "from sklearn.preprocessing import MinMaxScaler\n",
    "from sklearn.metrics import mean_absolute_error\n",
    "from joblib import dump"
   ]
  },
  {
   "cell_type": "code",
   "execution_count": 2,
   "metadata": {},
   "outputs": [
    {
     "data": {
      "text/html": [
       "<div>\n",
       "<style scoped>\n",
       "    .dataframe tbody tr th:only-of-type {\n",
       "        vertical-align: middle;\n",
       "    }\n",
       "\n",
       "    .dataframe tbody tr th {\n",
       "        vertical-align: top;\n",
       "    }\n",
       "\n",
       "    .dataframe thead th {\n",
       "        text-align: right;\n",
       "    }\n",
       "</style>\n",
       "<table border=\"1\" class=\"dataframe\">\n",
       "  <thead>\n",
       "    <tr style=\"text-align: right;\">\n",
       "      <th></th>\n",
       "      <th>mass_flow(kg/h)</th>\n",
       "      <th>screw_speed(rpm)</th>\n",
       "      <th>solid_content(%)</th>\n",
       "      <th>Energy(kJ/kg)</th>\n",
       "      <th>Torque(N.m)</th>\n",
       "    </tr>\n",
       "  </thead>\n",
       "  <tbody>\n",
       "    <tr>\n",
       "      <th>0</th>\n",
       "      <td>2.28</td>\n",
       "      <td>800</td>\n",
       "      <td>70.0</td>\n",
       "      <td>6552.149619</td>\n",
       "      <td>2.972000</td>\n",
       "    </tr>\n",
       "    <tr>\n",
       "      <th>1</th>\n",
       "      <td>2.28</td>\n",
       "      <td>1000</td>\n",
       "      <td>70.0</td>\n",
       "      <td>9031.174828</td>\n",
       "      <td>3.277172</td>\n",
       "    </tr>\n",
       "    <tr>\n",
       "      <th>2</th>\n",
       "      <td>2.28</td>\n",
       "      <td>1200</td>\n",
       "      <td>70.0</td>\n",
       "      <td>8612.666192</td>\n",
       "      <td>2.604422</td>\n",
       "    </tr>\n",
       "    <tr>\n",
       "      <th>3</th>\n",
       "      <td>4.56</td>\n",
       "      <td>800</td>\n",
       "      <td>70.0</td>\n",
       "      <td>3868.788613</td>\n",
       "      <td>3.509700</td>\n",
       "    </tr>\n",
       "    <tr>\n",
       "      <th>4</th>\n",
       "      <td>4.56</td>\n",
       "      <td>1000</td>\n",
       "      <td>70.0</td>\n",
       "      <td>4463.403908</td>\n",
       "      <td>3.239300</td>\n",
       "    </tr>\n",
       "    <tr>\n",
       "      <th>...</th>\n",
       "      <td>...</td>\n",
       "      <td>...</td>\n",
       "      <td>...</td>\n",
       "      <td>...</td>\n",
       "      <td>...</td>\n",
       "    </tr>\n",
       "    <tr>\n",
       "      <th>63</th>\n",
       "      <td>6.84</td>\n",
       "      <td>1000</td>\n",
       "      <td>85.0</td>\n",
       "      <td>8257.584290</td>\n",
       "      <td>8.989370</td>\n",
       "    </tr>\n",
       "    <tr>\n",
       "      <th>64</th>\n",
       "      <td>6.84</td>\n",
       "      <td>1200</td>\n",
       "      <td>85.0</td>\n",
       "      <td>10161.012782</td>\n",
       "      <td>9.217900</td>\n",
       "    </tr>\n",
       "    <tr>\n",
       "      <th>65</th>\n",
       "      <td>9.13</td>\n",
       "      <td>1200</td>\n",
       "      <td>85.0</td>\n",
       "      <td>8098.660981</td>\n",
       "      <td>9.806700</td>\n",
       "    </tr>\n",
       "    <tr>\n",
       "      <th>66</th>\n",
       "      <td>11.41</td>\n",
       "      <td>1200</td>\n",
       "      <td>85.0</td>\n",
       "      <td>6704.428438</td>\n",
       "      <td>10.145800</td>\n",
       "    </tr>\n",
       "    <tr>\n",
       "      <th>67</th>\n",
       "      <td>13.68</td>\n",
       "      <td>1200</td>\n",
       "      <td>85.0</td>\n",
       "      <td>5832.339104</td>\n",
       "      <td>10.582000</td>\n",
       "    </tr>\n",
       "  </tbody>\n",
       "</table>\n",
       "<p>68 rows × 5 columns</p>\n",
       "</div>"
      ],
      "text/plain": [
       "    mass_flow(kg/h)  screw_speed(rpm)  solid_content(%)  Energy(kJ/kg)  \\\n",
       "0              2.28               800              70.0    6552.149619   \n",
       "1              2.28              1000              70.0    9031.174828   \n",
       "2              2.28              1200              70.0    8612.666192   \n",
       "3              4.56               800              70.0    3868.788613   \n",
       "4              4.56              1000              70.0    4463.403908   \n",
       "..              ...               ...               ...            ...   \n",
       "63             6.84              1000              85.0    8257.584290   \n",
       "64             6.84              1200              85.0   10161.012782   \n",
       "65             9.13              1200              85.0    8098.660981   \n",
       "66            11.41              1200              85.0    6704.428438   \n",
       "67            13.68              1200              85.0    5832.339104   \n",
       "\n",
       "    Torque(N.m)  \n",
       "0      2.972000  \n",
       "1      3.277172  \n",
       "2      2.604422  \n",
       "3      3.509700  \n",
       "4      3.239300  \n",
       "..          ...  \n",
       "63     8.989370  \n",
       "64     9.217900  \n",
       "65     9.806700  \n",
       "66    10.145800  \n",
       "67    10.582000  \n",
       "\n",
       "[68 rows x 5 columns]"
      ]
     },
     "execution_count": 2,
     "metadata": {},
     "output_type": "execute_result"
    }
   ],
   "source": [
    "data = pd.read_excel(\"Extruder_model.xlsx\")\n",
    "data"
   ]
  },
  {
   "cell_type": "code",
   "execution_count": 3,
   "metadata": {},
   "outputs": [
    {
     "data": {
      "text/plain": [
       "['scaler.joblib']"
      ]
     },
     "execution_count": 3,
     "metadata": {},
     "output_type": "execute_result"
    }
   ],
   "source": [
    "data = pd.read_excel(\"Extruder_model.xlsx\")\n",
    "data = data.sample(frac=1)\n",
    "X_data = data.drop([\"Energy(kJ/kg)\" , \"Torque(N.m)\"],axis=1)\n",
    "Y_data = data[\"Energy(kJ/kg)\"].values\n",
    "scaler = MinMaxScaler()\n",
    "X_data = scaler.fit_transform(X_data)\n",
    "dump(scaler , \"scaler.joblib\")"
   ]
  },
  {
   "cell_type": "code",
   "execution_count": 4,
   "metadata": {},
   "outputs": [
    {
     "data": {
      "text/plain": [
       "array([[0.2       , 0.5       , 1.        ],\n",
       "       [0.        , 1.        , 0.33333333],\n",
       "       [0.        , 0.        , 0.        ],\n",
       "       [0.        , 1.        , 0.5       ],\n",
       "       [0.4       , 0.        , 0.        ],\n",
       "       [0.2       , 1.        , 0.75      ],\n",
       "       [0.2       , 0.5       , 0.83333333],\n",
       "       [0.4       , 0.        , 0.33333333],\n",
       "       [0.4       , 1.        , 1.        ],\n",
       "       [0.        , 1.        , 1.        ],\n",
       "       [0.2       , 0.5       , 0.66666667],\n",
       "       [0.4       , 0.5       , 1.        ],\n",
       "       [0.80087719, 1.        , 1.        ],\n",
       "       [0.2       , 1.        , 0.25      ],\n",
       "       [0.        , 0.5       , 0.33333333],\n",
       "       [0.2       , 0.        , 0.        ],\n",
       "       [0.2       , 0.5       , 0.16666667],\n",
       "       [0.2       , 0.        , 0.16666667],\n",
       "       [0.        , 0.5       , 1.        ],\n",
       "       [0.4       , 0.        , 0.5       ],\n",
       "       [0.4       , 0.        , 0.66666667],\n",
       "       [0.4       , 0.5       , 0.16666667],\n",
       "       [0.4       , 0.        , 0.83333333],\n",
       "       [0.60087719, 1.        , 1.        ],\n",
       "       [0.4       , 0.5       , 0.33333333],\n",
       "       [0.60087719, 0.5       , 0.66666667],\n",
       "       [0.80087719, 0.5       , 0.        ],\n",
       "       [0.        , 0.        , 0.33333333],\n",
       "       [0.2       , 1.        , 0.        ],\n",
       "       [0.2       , 0.        , 0.33333333],\n",
       "       [0.60087719, 0.5       , 0.5       ],\n",
       "       [0.60087719, 0.5       , 0.        ],\n",
       "       [0.        , 0.        , 0.5       ],\n",
       "       [0.        , 0.5       , 0.16666667],\n",
       "       [0.        , 0.        , 0.83333333],\n",
       "       [0.2       , 1.        , 1.        ],\n",
       "       [0.60087719, 0.        , 0.        ],\n",
       "       [0.        , 0.        , 0.66666667],\n",
       "       [0.        , 1.        , 0.66666667],\n",
       "       [0.2       , 1.        , 0.5       ],\n",
       "       [0.        , 0.        , 0.16666667],\n",
       "       [0.2       , 0.        , 0.83333333],\n",
       "       [1.        , 1.        , 1.        ],\n",
       "       [0.        , 0.5       , 0.83333333],\n",
       "       [0.2       , 0.        , 0.5       ],\n",
       "       [0.4       , 0.5       , 0.83333333],\n",
       "       [0.        , 1.        , 0.83333333],\n",
       "       [0.4       , 0.5       , 0.5       ],\n",
       "       [0.        , 0.5       , 0.66666667],\n",
       "       [0.4       , 0.        , 1.        ],\n",
       "       [0.        , 1.        , 0.        ],\n",
       "       [0.        , 0.5       , 0.5       ],\n",
       "       [0.4       , 1.        , 0.66666667],\n",
       "       [0.80087719, 0.5       , 0.33333333],\n",
       "       [0.        , 0.5       , 0.        ],\n",
       "       [0.60087719, 0.5       , 0.33333333],\n",
       "       [0.2       , 0.        , 1.        ],\n",
       "       [0.2       , 0.        , 0.66666667],\n",
       "       [0.2       , 0.5       , 0.5       ],\n",
       "       [0.4       , 1.        , 0.83333333],\n",
       "       [0.4       , 0.5       , 0.66666667],\n",
       "       [0.        , 0.        , 1.        ],\n",
       "       [0.        , 1.        , 0.16666667],\n",
       "       [0.4       , 0.        , 0.16666667],\n",
       "       [0.2       , 0.5       , 0.33333333],\n",
       "       [0.2       , 0.5       , 0.        ],\n",
       "       [0.4       , 0.5       , 0.        ],\n",
       "       [0.60087719, 0.5       , 0.16666667]])"
      ]
     },
     "execution_count": 4,
     "metadata": {},
     "output_type": "execute_result"
    }
   ],
   "source": [
    "X_data"
   ]
  },
  {
   "cell_type": "code",
   "execution_count": 5,
   "metadata": {},
   "outputs": [],
   "source": [
    "# difine the function\n",
    "def grid_search(max_depths:list,n_estimators :list,cv:int =5):\n",
    "    df = pd.DataFrame()\n",
    "    for n_estimator in n_estimators:\n",
    "    \n",
    "        for md in max_depths:\n",
    "            \n",
    "            model_GradientBoostingRegressor= GradientBoostingRegressor( learning_rate=0.2, max_depth=md, n_estimators=n_estimator)\n",
    "            cv_results = cross_validate(model_GradientBoostingRegressor,X_data,Y_data.reshape(-1,),cv=cv,scoring=('neg_mean_absolute_error'),return_train_score=True)\n",
    "            for i in range(cv):\n",
    "                df = pd.concat( [df,pd.DataFrame(data={\"max_depth\":md,\"n_estimators\" :n_estimator , \"cv_result\" :[-1*cv_results[\"train_score\"][i]] , \"type\" : \"train\"})],axis =0)\n",
    "            for i in range(cv):\n",
    "                df = pd.concat( [df,pd.DataFrame(data={\"max_depth\":md,\"n_estimators\" :n_estimator , \"cv_result\" :[-1*cv_results[\"test_score\"][i]] , \"type\" : \"test\"})],axis =0)\n",
    "\n",
    "    \n",
    "    return df"
   ]
  },
  {
   "cell_type": "code",
   "execution_count": 6,
   "metadata": {},
   "outputs": [],
   "source": [
    "# call the function\n",
    "cv_gs_results = grid_search([1,2,3],[10,50,100,150,200,300],cv=10)\n",
    "cv_gs_results.sort_values([\"n_estimators\",\"max_depth\"],inplace=True)\n",
    "cv_gs_results[\"md_nes\"] = cv_gs_results.apply(lambda x:(x.max_depth , x.n_estimators),axis=1)"
   ]
  },
  {
   "cell_type": "code",
   "execution_count": 7,
   "metadata": {},
   "outputs": [
    {
     "data": {
      "image/png": "[encoded data removed]",
      "text/plain": [
       "<Figure size 720x360 with 1 Axes>"
      ]
     },
     "metadata": {
      "needs_background": "light"
     },
     "output_type": "display_data"
    }
   ],
   "source": [
    "ax, fig  = plt.subplots(1,1,figsize = (10,5))\n",
    "ax = sns.barplot(data=cv_gs_results , x =cv_gs_results[\"md_nes\"] , y = \"cv_result\" ,hue = \"type\" )\n",
    "ax.set_xticklabels(ax.get_xticklabels() ,rotation = 90);"
   ]
  },
  {
   "cell_type": "code",
   "execution_count": 8,
   "metadata": {},
   "outputs": [],
   "source": [
    "df_plt = cv_gs_results.groupby([\"md_nes\", \"type\"],as_index=False).mean().drop([\"max_depth\" , \"n_estimators\"],axis=1)"
   ]
  },
  {
   "cell_type": "code",
   "execution_count": 9,
   "metadata": {},
   "outputs": [
    {
     "data": {
      "image/png": "[encoded data removed]",
      "text/plain": [
       "<Figure size 720x360 with 1 Axes>"
      ]
     },
     "metadata": {
      "needs_background": "light"
     },
     "output_type": "display_data"
    }
   ],
   "source": [
    "plt.figure(figsize=(10,5) )\n",
    "plt.plot(list(map(str,df_plt[df_plt[\"type\"] == \"train\"].md_nes.values)),  list(df_plt[df_plt[\"type\"] == \"train\"].cv_result.values),label = \"train\")\n",
    "plt.plot(list(map(str,df_plt[df_plt[\"type\"] == \"test\"].md_nes.values)),  list(df_plt[df_plt[\"type\"] == \"test\"].cv_result.values),label = \"test\")\n",
    "plt.xticks(rotation = 90)\n",
    "plt.xlabel(\"(max_depth, n_estimator)\")\n",
    "plt.ylabel(\"Mean Absolute Error\")\n",
    "plt.legend()\n",
    "plt.grid(which = \"both\")"
   ]
  },
  {
   "cell_type": "code",
   "execution_count": 10,
   "metadata": {},
   "outputs": [],
   "source": [
    "model_Energy= GradientBoostingRegressor( learning_rate=0.2, max_depth=3, n_estimators=150)\n",
    "Energy = cross_validate(model_Energy,X_data,Y_data.reshape(-1,),cv=10,scoring=('neg_mean_absolute_error'),return_train_score=True)"
   ]
  },
  {
   "cell_type": "code",
   "execution_count": 11,
   "metadata": {},
   "outputs": [
    {
     "name": "stdout",
     "output_type": "stream",
     "text": [
      "test scores:\n",
      " [629.3162452230499, 725.3954106435783, 639.5079953249349, 675.4008691062198, 313.0626881028419, 987.6752208107691, 1325.7650558126827, 574.8289511482653, 598.4666735468867, 255.76244164105864]\n",
      "mean:   672.5181551360287\n",
      "\n",
      "\n",
      "\n",
      "train scores:\n",
      " [58.875975793657545, 88.95878537363728, 50.40887660739186, 80.67187822929984, 72.86089298884568, 76.4592082606586, 47.64656943143279, 51.0899171356471, 47.50761159793964, 66.28842022192266]\n",
      "mean:   64.0768135640433\n"
     ]
    }
   ],
   "source": [
    "print(\"test scores:\\n\",list(map(abs,Energy[\"test_score\"])))\n",
    "print(\"mean:  \",abs(np.mean(Energy[\"test_score\"])) )\n",
    "print(\"\\n\\n\")\n",
    "print(\"train scores:\\n\",list(map(abs,Energy[\"train_score\"])))\n",
    "print(\"mean:  \",abs(np.mean(Energy[\"train_score\"]) ))\n"
   ]
  },
  {
   "cell_type": "code",
   "execution_count": 12,
   "metadata": {},
   "outputs": [
    {
     "data": {
      "text/html": [
       "<style>#sk-container-id-1 {color: black;background-color: white;}#sk-container-id-1 pre{padding: 0;}#sk-container-id-1 div.sk-toggleable {background-color: white;}#sk-container-id-1 label.sk-toggleable__label {cursor: pointer;display: block;width: 100%;margin-bottom: 0;padding: 0.3em;box-sizing: border-box;text-align: center;}#sk-container-id-1 label.sk-toggleable__label-arrow:before {content: \"▸\";float: left;margin-right: 0.25em;color: #696969;}#sk-container-id-1 label.sk-toggleable__label-arrow:hover:before {color: black;}#sk-container-id-1 div.sk-estimator:hover label.sk-toggleable__label-arrow:before {color: black;}#sk-container-id-1 div.sk-toggleable__content {max-height: 0;max-width: 0;overflow: hidden;text-align: left;background-color: #f0f8ff;}#sk-container-id-1 div.sk-toggleable__content pre {margin: 0.2em;color: black;border-radius: 0.25em;background-color: #f0f8ff;}#sk-container-id-1 input.sk-toggleable__control:checked~div.sk-toggleable__content {max-height: 200px;max-width: 100%;overflow: auto;}#sk-container-id-1 input.sk-toggleable__control:checked~label.sk-toggleable__label-arrow:before {content: \"▾\";}#sk-container-id-1 div.sk-estimator input.sk-toggleable__control:checked~label.sk-toggleable__label {background-color: #d4ebff;}#sk-container-id-1 div.sk-label input.sk-toggleable__control:checked~label.sk-toggleable__label {background-color: #d4ebff;}#sk-container-id-1 input.sk-hidden--visually {border: 0;clip: rect(1px 1px 1px 1px);clip: rect(1px, 1px, 1px, 1px);height: 1px;margin: -1px;overflow: hidden;padding: 0;position: absolute;width: 1px;}#sk-container-id-1 div.sk-estimator {font-family: monospace;background-color: #f0f8ff;border: 1px dotted black;border-radius: 0.25em;box-sizing: border-box;margin-bottom: 0.5em;}#sk-container-id-1 div.sk-estimator:hover {background-color: #d4ebff;}#sk-container-id-1 div.sk-parallel-item::after {content: \"\";width: 100%;border-bottom: 1px solid gray;flex-grow: 1;}#sk-container-id-1 div.sk-label:hover label.sk-toggleable__label {background-color: #d4ebff;}#sk-container-id-1 div.sk-serial::before {content: \"\";position: absolute;border-left: 1px solid gray;box-sizing: border-box;top: 0;bottom: 0;left: 50%;z-index: 0;}#sk-container-id-1 div.sk-serial {display: flex;flex-direction: column;align-items: center;background-color: white;padding-right: 0.2em;padding-left: 0.2em;position: relative;}#sk-container-id-1 div.sk-item {position: relative;z-index: 1;}#sk-container-id-1 div.sk-parallel {display: flex;align-items: stretch;justify-content: center;background-color: white;position: relative;}#sk-container-id-1 div.sk-item::before, #sk-container-id-1 div.sk-parallel-item::before {content: \"\";position: absolute;border-left: 1px solid gray;box-sizing: border-box;top: 0;bottom: 0;left: 50%;z-index: -1;}#sk-container-id-1 div.sk-parallel-item {display: flex;flex-direction: column;z-index: 1;position: relative;background-color: white;}#sk-container-id-1 div.sk-parallel-item:first-child::after {align-self: flex-end;width: 50%;}#sk-container-id-1 div.sk-parallel-item:last-child::after {align-self: flex-start;width: 50%;}#sk-container-id-1 div.sk-parallel-item:only-child::after {width: 0;}#sk-container-id-1 div.sk-dashed-wrapped {border: 1px dashed gray;margin: 0 0.4em 0.5em 0.4em;box-sizing: border-box;padding-bottom: 0.4em;background-color: white;}#sk-container-id-1 div.sk-label label {font-family: monospace;font-weight: bold;display: inline-block;line-height: 1.2em;}#sk-container-id-1 div.sk-label-container {text-align: center;}#sk-container-id-1 div.sk-container {/* jupyter's `normalize.less` sets `[hidden] { display: none; }` but bootstrap.min.css set `[hidden] { display: none !important; }` so we also need the `!important` here to be able to override the default hidden behavior on the sphinx rendered scikit-learn.org. See: https://github.com/scikit-learn/scikit-learn/issues/21755 */display: inline-block !important;position: relative;}#sk-container-id-1 div.sk-text-repr-fallback {display: none;}</style><div id=\"sk-container-id-1\" class=\"sk-top-container\"><div class=\"sk-text-repr-fallback\"><pre>GradientBoostingRegressor(learning_rate=0.2, n_estimators=150)</pre><b>In a Jupyter environment, please rerun this cell to show the HTML representation or trust the notebook. <br />On GitHub, the HTML representation is unable to render, please try loading this page with nbviewer.org.</b></div><div class=\"sk-container\" hidden><div class=\"sk-item\"><div class=\"sk-estimator sk-toggleable\"><input class=\"sk-toggleable__control sk-hidden--visually\" id=\"sk-estimator-id-1\" type=\"checkbox\" checked><label for=\"sk-estimator-id-1\" class=\"sk-toggleable__label sk-toggleable__label-arrow\">GradientBoostingRegressor</label><div class=\"sk-toggleable__content\"><pre>GradientBoostingRegressor(learning_rate=0.2, n_estimators=150)</pre></div></div></div></div></div>"
      ],
      "text/plain": [
       "GradientBoostingRegressor(learning_rate=0.2, n_estimators=150)"
      ]
     },
     "execution_count": 12,
     "metadata": {},
     "output_type": "execute_result"
    }
   ],
   "source": [
    "model_Energy.fit(X_data, Y_data)"
   ]
  },
  {
   "cell_type": "code",
   "execution_count": 13,
   "metadata": {},
   "outputs": [
    {
     "data": {
      "text/plain": [
       "['model_Energy.h5']"
      ]
     },
     "execution_count": 13,
     "metadata": {},
     "output_type": "execute_result"
    }
   ],
   "source": [
    "from joblib import dump, load\n",
    "dump(model_Energy,'model_Energy.h5') "
   ]
  },
  {
   "cell_type": "code",
   "execution_count": null,
   "metadata": {},
   "outputs": [],
   "source": []
  },
  {
   "cell_type": "code",
   "execution_count": null,
   "metadata": {},
   "outputs": [],
   "source": [
    "plt.scatter()"
   ]
  }
 ],
 "metadata": {
  "kernelspec": {
   "display_name": "base",
   "language": "python",
   "name": "python3"
  },
  "language_info": {
   "codemirror_mode": {
    "name": "ipython",
    "version": 3
   },
   "file_extension": ".py",
   "mimetype": "text/x-python",
   "name": "python",
   "nbconvert_exporter": "python",
   "pygments_lexer": "ipython3",
   "version": "3.9.7"
  },
  "vscode": {
   "interpreter": {
    "hash": "7287290b0480c475e07faa8d8f2642b950c35b54c7904c27a4cb3f03b8542e7d"
   }
  }
 },
 "nbformat": 4,
 "nbformat_minor": 4
}
