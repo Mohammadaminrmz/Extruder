{
 "cells": [
  {
   "cell_type": "code",
   "execution_count": 39,
   "metadata": {},
   "outputs": [],
   "source": [
    "from typing import Union\n",
    "import pandas as pd\n",
    "import numpy as np\n",
    "import joblib\n",
    "from sklearn.metrics import mean_absolute_error , mean_squared_error\n",
    "\n",
    "\n",
    "\n",
    "class Extruder:\n",
    "    def __init__(self, energy_ref: float , torque_ref: float, \n",
    "    screw_speed : float, solid_content : float, mass_flow : float ,\n",
    "    scaler_path :str , energy_model_path :str , torque_model_path : str,\n",
    "    screw_speed_gs:float = 50 , solid_content_gs:float = 2 ) -> None:\n",
    "        self.energy_ref = energy_ref\n",
    "        self.torque_ref = torque_ref\n",
    "        self.screw_speed = screw_speed\n",
    "        self.solid_content = solid_content\n",
    "        self.mass_flow = mass_flow\n",
    "        self.scaler = joblib.load(scaler_path)  \n",
    "        self.energy_model = joblib.load(energy_model_path)\n",
    "        self.torque_model = joblib.load(torque_model_path)\n",
    "\n",
    "        self.screw_speed_gs = screw_speed_gs\n",
    "        self.solid_content_gs = solid_content_gs\n",
    "        self.energy = None\n",
    "        self.torque = None\n",
    "        self.error_mae = None\n",
    "        self.error_mse = None\n",
    "        self.delta_sc = None\n",
    "        self.delta_sp = None\n",
    "        self.best_mae = None\n",
    "        self.best_mse = None\n",
    "\n",
    "    def _search_for_best_params(self , sp_step:float , sc_step,torque_ref:float , enregy_ref,screw_speed:float , solid_content:float, mass_flow:float , mode :str):\n",
    "        potentail_solid_content = np.arange(70,85 , sc_step)\n",
    "        potentail_screw_speed = np.arange(800,1200 , sp_step)\n",
    "        potentail_solid_content , potentail_screw_speed = np.meshgrid(potentail_solid_content ,potentail_screw_speed)\n",
    "        potentail_solid_content = potentail_solid_content.flatten()\n",
    "        potentail_screw_speed = potentail_screw_speed.flatten()\n",
    "\n",
    "        \n",
    "        mass_flows = np.ones(potentail_screw_speed.shape)*mass_flow\n",
    "\n",
    "        torques ,energies =  self._predict(potentail_screw_speed ,potentail_solid_content ,mass_flows)\n",
    "\n",
    "        # potential_features = np.array([mass_flows , potentail_screw_speed ,potentail_solid_content ]).transpose()\n",
    "        # potential_features_scaled = self.scaler.transform(potential_features)\n",
    "\n",
    "        # energies = self.energy_model.predict(potential_features_scaled)\n",
    "        # torques = self.torque_model.predict(potential_features_scaled)\n",
    "        zipped = np.array([energies , torques])\n",
    "        if mode.lower().strip() == \"mae\":\n",
    "            maes = np.apply_along_axis(lambda x: mean_absolute_error([x[0] ,x[1]] , [enregy_ref,torque_ref]) ,0, zipped)\n",
    "            min_mae = np.min(maes)\n",
    "            best_screw_speed = potentail_screw_speed[np.argmin(maes)]\n",
    "            best_solid_content = potentail_solid_content[np.argmin(maes)]\n",
    "            delta_screw_speed = best_screw_speed - screw_speed \n",
    "            delta_solid_content = best_solid_content - solid_content \n",
    "            return delta_screw_speed , delta_solid_content , min_mae\n",
    "        elif mode.lower().strip() == \"mse\":\n",
    "            mses = np.apply_along_axis(lambda x: mean_squared_error([x[0] ,x[1]] , [enregy_ref,torque_ref]) ,0, zipped)\n",
    "            min_mse = np.min(mses)\n",
    "            best_screw_speed = potentail_screw_speed[np.argmin(mses)]\n",
    "            best_solid_content = potentail_solid_content[np.argmin(mses)]\n",
    "            delta_screw_speed = best_screw_speed - screw_speed \n",
    "            delta_solid_content = best_solid_content - solid_content\n",
    "            return delta_screw_speed , delta_solid_content , min_mse\n",
    "        else:\n",
    "            raise ValueError(\"invalid mode!\")\n",
    "\n",
    "\n",
    "\n",
    "    def _find_error(self,energy_ref:float , energy:float , torque_ref:float , torque:float):\n",
    "        mse = mean_squared_error([energy_ref ,torque_ref ] , [energy ,torque ])\n",
    "        mae = mean_absolute_error([energy_ref ,torque_ref ] , [energy ,torque ])\n",
    "        return mse , mae\n",
    "\n",
    "    def _predict(self,screw_speed : Union[list , float ] ,solid_content: Union[list , float ]  ,mass_flow: Union[list , float ]):\n",
    "        # if (isinstance(screw_speed , int) or isinstance(screw_speed , float)) and (isinstance(solid_content , int) or isinstance(solid_content , float)) and (isinstance(mass_flow , int) or isinstance(mass_flow , float)):\n",
    "        #     self._predict(float(screw_speed) , float(solid_content) , float(mass_flow))\n",
    "\n",
    "        if isinstance(screw_speed , float) and isinstance(solid_content , float) and isinstance(mass_flow , float):\n",
    "            return self._predict(np.array([screw_speed]) , np.array([solid_content]) , np.array([mass_flow]))\n",
    "            \n",
    "\n",
    "        elif isinstance(screw_speed , np.ndarray) and isinstance(solid_content , np.ndarray) and isinstance(mass_flow , np.ndarray):\n",
    "            features = np.array([mass_flow , screw_speed , solid_content]).transpose()\n",
    "            features_scaled = self.scaler.transform(features)\n",
    "            energy = self.energy_model.predict(features_scaled)\n",
    "            torque = self.torque_model.predict(features_scaled)\n",
    "            # print(energy)\n",
    "            # print(\"______________________\")\n",
    "            # print(torque)\n",
    "\n",
    "            return  torque , energy\n",
    "\n",
    "        raise TypeError(\"Not valid type for features\")\n",
    "            \n",
    "\n",
    "\n",
    "    def start(self , mse_thresh : float =1000.0 , mae_thresh:float = 0 ):\n",
    "        self.torque , self.energy = self._predict(float(self.screw_speed ), float(self.solid_content) , float(self.mass_flow))\n",
    "        self.error_mse , self.error_mae = self._find_error(self.energy_ref , self.energy , self.torque_ref , self.torque)\n",
    "\n",
    "        if mae_thresh:\n",
    "            print(\"error mode: mae\")\n",
    "            if self.error_mae < mae_thresh:\n",
    "                self.torque_pred , self.energy_pred = self.torque , self.energy\n",
    "                return 0 , 0 ,self.error_mae \n",
    "\n",
    "            else:\n",
    "                self.delta_sp , self.delta_sc , self.best_mae = self._search_for_best_params( self.screw_speed_gs , self.solid_content_gs ,\n",
    "                self.torque_ref,self.energy_ref,self.screw_speed,self.solid_content,self.mass_flow, mode = \"mae\" )\n",
    "\n",
    "\n",
    "\n",
    "                if self.best_mae > mae_thresh:\n",
    "                    print(f\"condition not satisfied!\\nyou can decrease steps for sp and sc \\nbest params for mae = {self.best_mae}\\ndelta_screw_speed = {self.delta_sp} \\ndelta_solid_content = {self.delta_sc}\")\n",
    "\n",
    "                else:\n",
    "                    print(f\"condition satisfied! \\n best params for mse = {self.best_mae}\\ndelta_screw_speed = {self.delta_sp} \\ndelta_solid_content = {self.delta_sc}\")\n",
    "\n",
    "                self.torque_pred , self.energy_pred = self._predict(float(self.screw_speed + self.delta_sp) ,float(self.solid_content + self.delta_sc), float(self.mass_flow) )\n",
    "\n",
    "                return self.delta_sp , self.delta_sc , self.best_mae \n",
    "\n",
    "        else:\n",
    "            print(\"error mode: mse\")\n",
    "            if self.error_mse < mse_thresh:\n",
    "                self.torque_pred , self.energy_pred = self.torque , self.energy\n",
    "                return 0 , 0 ,self.error_mse\n",
    "\n",
    "            else:\n",
    "                self.delta_sp , self.delta_sc , self.best_mse = self._search_for_best_params( self.screw_speed_gs , self.solid_content_gs ,\n",
    "                self.torque_ref,self.energy_ref,self.screw_speed,self.solid_content,self.mass_flow,mode = \"mse\"  )\n",
    "\n",
    "                if self.best_mse > mse_thresh:\n",
    "                    print(f\"condition not satisfied!\\nyou can decrease steps for sp and sc \\nbest params for mse = {self.best_mse}\\ndelta_screw_speed = {self.delta_sp} \\ndelta_solid_content = {self.delta_sc}\")\n",
    "\n",
    "                else:\n",
    "                    print(f\"condition satisfied! \\n best params for mse = {self.best_mse}\\ndelta_screw_speed = {self.delta_sp} \\ndelta_solid_content = {self.delta_sc}\")\n",
    "\n",
    "                self.torque_pred , self.energy_pred = self._predict(float(self.screw_speed + self.delta_sp) ,float(self.solid_content + self.delta_sc), float(self.mass_flow) )\n",
    "\n",
    "                return self.delta_sp , self.delta_sc , self.best_mse \n",
    "\n",
    "    @property\n",
    "    def pred_energy(self):\n",
    "        if self.delta_sc:\n",
    "            return self.energy_pred\n",
    "\n",
    "    @property\n",
    "    def pred_torque(self):\n",
    "        if self.delta_sc:\n",
    "            return self.torque_pred\n",
    "\n",
    "                \n",
    "\n",
    "\n",
    "\n",
    "\n",
    "    \n",
    "\n",
    "\n",
    "\n",
    "\n",
    "\n",
    "\n",
    "\n",
    "\n",
    "\n",
    "\n",
    "\n",
    "\n",
    "        \n",
    "\n",
    "\n"
   ]
  },
  {
   "cell_type": "code",
   "execution_count": 40,
   "metadata": {},
   "outputs": [
    {
     "name": "stderr",
     "output_type": "stream",
     "text": [
      "c:\\Users\\aminr\\anaconda3\\lib\\site-packages\\sklearn\\base.py:288: UserWarning: Trying to unpickle estimator MinMaxScaler from version 1.1.1 when using version 1.2.0. This might lead to breaking code or invalid results. Use at your own risk. For more info please refer to:\n",
      "https://scikit-learn.org/stable/model_persistence.html#security-maintainability-limitations\n",
      "  warnings.warn(\n",
      "c:\\Users\\aminr\\anaconda3\\lib\\site-packages\\sklearn\\base.py:288: UserWarning: Trying to unpickle estimator DummyRegressor from version 1.1.1 when using version 1.2.0. This might lead to breaking code or invalid results. Use at your own risk. For more info please refer to:\n",
      "https://scikit-learn.org/stable/model_persistence.html#security-maintainability-limitations\n",
      "  warnings.warn(\n",
      "c:\\Users\\aminr\\anaconda3\\lib\\site-packages\\sklearn\\base.py:288: UserWarning: Trying to unpickle estimator DecisionTreeRegressor from version 1.1.1 when using version 1.2.0. This might lead to breaking code or invalid results. Use at your own risk. For more info please refer to:\n",
      "https://scikit-learn.org/stable/model_persistence.html#security-maintainability-limitations\n",
      "  warnings.warn(\n",
      "c:\\Users\\aminr\\anaconda3\\lib\\site-packages\\sklearn\\base.py:288: UserWarning: Trying to unpickle estimator GradientBoostingRegressor from version 1.1.1 when using version 1.2.0. This might lead to breaking code or invalid results. Use at your own risk. For more info please refer to:\n",
      "https://scikit-learn.org/stable/model_persistence.html#security-maintainability-limitations\n",
      "  warnings.warn(\n"
     ]
    }
   ],
   "source": [
    "energy_model_path = \"model_Energy.h5\"\n",
    "torque_model_path = \"model_Torque.h5\"\n",
    "scaler_path = \"scaler_ext.joblib\"\n",
    "extruder = Extruder(energy_ref= 26857.9711783368 , torque_ref= 8.1217 ,screw_speed= 400 , solid_content=10 , mass_flow=2.28 ,\n",
    "energy_model_path=energy_model_path, torque_model_path= torque_model_path , scaler_path= scaler_path,\n",
    "screw_speed_gs= 5 , solid_content_gs= 0.1)"
   ]
  },
  {
   "cell_type": "code",
   "execution_count": 41,
   "metadata": {},
   "outputs": [
    {
     "name": "stderr",
     "output_type": "stream",
     "text": [
      "c:\\Users\\aminr\\anaconda3\\lib\\site-packages\\sklearn\\base.py:409: UserWarning: X does not have valid feature names, but MinMaxScaler was fitted with feature names\n",
      "  warnings.warn(\n",
      "c:\\Users\\aminr\\anaconda3\\lib\\site-packages\\sklearn\\base.py:409: UserWarning: X does not have valid feature names, but MinMaxScaler was fitted with feature names\n",
      "  warnings.warn(\n"
     ]
    },
    {
     "name": "stdout",
     "output_type": "stream",
     "text": [
      "exit pred\n",
      "error mode: mae\n",
      "bbessst 83.79999999999922 1105\n",
      "searchedddddddddddddddddd\n",
      "condition not satisfied!\n",
      "you can decrease steps for sp and sc \n",
      "best params for mae = 97.94686161218067\n",
      "delta_screw_speed = 705 \n",
      "delta_solid_content = 73.79999999999922\n"
     ]
    },
    {
     "name": "stderr",
     "output_type": "stream",
     "text": [
      "c:\\Users\\aminr\\anaconda3\\lib\\site-packages\\sklearn\\base.py:409: UserWarning: X does not have valid feature names, but MinMaxScaler was fitted with feature names\n",
      "  warnings.warn(\n"
     ]
    },
    {
     "data": {
      "text/plain": [
       "(705, 73.79999999999922, 97.94686161218067)"
      ]
     },
     "execution_count": 41,
     "metadata": {},
     "output_type": "execute_result"
    }
   ],
   "source": [
    "extruder.start(mae_thresh= 10)"
   ]
  },
  {
   "cell_type": "code",
   "execution_count": 42,
   "metadata": {},
   "outputs": [
    {
     "data": {
      "text/plain": [
       "array([27053.822557])"
      ]
     },
     "execution_count": 42,
     "metadata": {},
     "output_type": "execute_result"
    }
   ],
   "source": [
    "extruder.pred_energy"
   ]
  },
  {
   "cell_type": "code",
   "execution_count": 43,
   "metadata": {},
   "outputs": [
    {
     "data": {
      "text/plain": [
       "array([8.07935544])"
      ]
     },
     "execution_count": 43,
     "metadata": {},
     "output_type": "execute_result"
    }
   ],
   "source": [
    "extruder.pred_torque"
   ]
  }
 ],
 "metadata": {
  "kernelspec": {
   "display_name": "base",
   "language": "python",
   "name": "python3"
  },
  "language_info": {
   "codemirror_mode": {
    "name": "ipython",
    "version": 3
   },
   "file_extension": ".py",
   "mimetype": "text/x-python",
   "name": "python",
   "nbconvert_exporter": "python",
   "pygments_lexer": "ipython3",
   "version": "3.9.7 (default, Sep 16 2021, 16:59:28) [MSC v.1916 64 bit (AMD64)]"
  },
  "orig_nbformat": 4,
  "vscode": {
   "interpreter": {
    "hash": "7287290b0480c475e07faa8d8f2642b950c35b54c7904c27a4cb3f03b8542e7d"
   }
  }
 },
 "nbformat": 4,
 "nbformat_minor": 2
}
