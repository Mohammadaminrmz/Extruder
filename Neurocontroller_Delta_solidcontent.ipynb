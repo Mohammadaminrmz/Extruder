{
 "cells": [
  {
   "cell_type": "code",
   "execution_count": 1,
   "metadata": {},
   "outputs": [
    {
     "name": "stderr",
     "output_type": "stream",
     "text": [
      "<frozen importlib._bootstrap>:228: RuntimeWarning: scipy._lib.messagestream.MessageStream size changed, may indicate binary incompatibility. Expected 56 from C header, got 64 from PyObject\n"
     ]
    }
   ],
   "source": [
    "import numpy as np\n",
    "import pandas as pd\n",
    "import matplotlib.pyplot as plt\n",
    "from sklearn.model_selection import train_test_split\n",
    "from sklearn.preprocessing import MinMaxScaler\n",
    "from sklearn.ensemble import GradientBoostingRegressor\n",
    "from sklearn.model_selection import cross_validate"
   ]
  },
  {
   "cell_type": "code",
   "execution_count": 2,
   "metadata": {},
   "outputs": [],
   "source": [
    "df = pd.read_excel('neurocontroller_model.xlsx', dtype=np.float32)"
   ]
  },
  {
   "cell_type": "code",
   "execution_count": 3,
   "metadata": {},
   "outputs": [
    {
     "data": {
      "text/html": [
       "<div>\n",
       "<style scoped>\n",
       "    .dataframe tbody tr th:only-of-type {\n",
       "        vertical-align: middle;\n",
       "    }\n",
       "\n",
       "    .dataframe tbody tr th {\n",
       "        vertical-align: top;\n",
       "    }\n",
       "\n",
       "    .dataframe thead th {\n",
       "        text-align: right;\n",
       "    }\n",
       "</style>\n",
       "<table border=\"1\" class=\"dataframe\">\n",
       "  <thead>\n",
       "    <tr style=\"text-align: right;\">\n",
       "      <th></th>\n",
       "      <th>mass_flow(kg/h)</th>\n",
       "      <th>Energy_ref</th>\n",
       "      <th>Torque_ref</th>\n",
       "      <th>screw_speed(rpm)</th>\n",
       "      <th>solid_content(%)</th>\n",
       "      <th>Energy(kJ/kg)</th>\n",
       "      <th>Torque(N.m)</th>\n",
       "      <th>∆𝒏</th>\n",
       "      <th>∆𝑐_𝑚</th>\n",
       "    </tr>\n",
       "  </thead>\n",
       "  <tbody>\n",
       "    <tr>\n",
       "      <th>0</th>\n",
       "      <td>2.28</td>\n",
       "      <td>6552.149414</td>\n",
       "      <td>2.972</td>\n",
       "      <td>800.0</td>\n",
       "      <td>70.0</td>\n",
       "      <td>6552.149414</td>\n",
       "      <td>2.972000</td>\n",
       "      <td>0.0</td>\n",
       "      <td>0.0</td>\n",
       "    </tr>\n",
       "    <tr>\n",
       "      <th>1</th>\n",
       "      <td>2.28</td>\n",
       "      <td>6552.149414</td>\n",
       "      <td>2.972</td>\n",
       "      <td>1000.0</td>\n",
       "      <td>70.0</td>\n",
       "      <td>9031.174805</td>\n",
       "      <td>3.277172</td>\n",
       "      <td>-200.0</td>\n",
       "      <td>0.0</td>\n",
       "    </tr>\n",
       "    <tr>\n",
       "      <th>2</th>\n",
       "      <td>2.28</td>\n",
       "      <td>6552.149414</td>\n",
       "      <td>2.972</td>\n",
       "      <td>1200.0</td>\n",
       "      <td>70.0</td>\n",
       "      <td>8612.666016</td>\n",
       "      <td>2.604422</td>\n",
       "      <td>-400.0</td>\n",
       "      <td>0.0</td>\n",
       "    </tr>\n",
       "    <tr>\n",
       "      <th>3</th>\n",
       "      <td>2.28</td>\n",
       "      <td>6552.149414</td>\n",
       "      <td>2.972</td>\n",
       "      <td>800.0</td>\n",
       "      <td>72.5</td>\n",
       "      <td>7118.958984</td>\n",
       "      <td>3.229100</td>\n",
       "      <td>0.0</td>\n",
       "      <td>-2.5</td>\n",
       "    </tr>\n",
       "    <tr>\n",
       "      <th>4</th>\n",
       "      <td>2.28</td>\n",
       "      <td>6552.149414</td>\n",
       "      <td>2.972</td>\n",
       "      <td>1000.0</td>\n",
       "      <td>72.5</td>\n",
       "      <td>9297.460938</td>\n",
       "      <td>3.373800</td>\n",
       "      <td>-200.0</td>\n",
       "      <td>-2.5</td>\n",
       "    </tr>\n",
       "  </tbody>\n",
       "</table>\n",
       "</div>"
      ],
      "text/plain": [
       "   mass_flow(kg/h)   Energy_ref  Torque_ref  screw_speed(rpm)  \\\n",
       "0             2.28  6552.149414       2.972             800.0   \n",
       "1             2.28  6552.149414       2.972            1000.0   \n",
       "2             2.28  6552.149414       2.972            1200.0   \n",
       "3             2.28  6552.149414       2.972             800.0   \n",
       "4             2.28  6552.149414       2.972            1000.0   \n",
       "\n",
       "   solid_content(%)  Energy(kJ/kg)  Torque(N.m)     ∆𝒏  ∆𝑐_𝑚  \n",
       "0              70.0    6552.149414     2.972000    0.0   0.0  \n",
       "1              70.0    9031.174805     3.277172 -200.0   0.0  \n",
       "2              70.0    8612.666016     2.604422 -400.0   0.0  \n",
       "3              72.5    7118.958984     3.229100    0.0  -2.5  \n",
       "4              72.5    9297.460938     3.373800 -200.0  -2.5  "
      ]
     },
     "execution_count": 3,
     "metadata": {},
     "output_type": "execute_result"
    }
   ],
   "source": [
    "df.head(5)"
   ]
  },
  {
   "cell_type": "code",
   "execution_count": 4,
   "metadata": {},
   "outputs": [],
   "source": [
    "#define inputs and outputs\n",
    "df = df.sample(frac=1)\n",
    "X1_data = df[['mass_flow(kg/h)','Energy_ref','Torque_ref','Energy(kJ/kg)','Torque(N.m)']]\n",
    "Y1_data = df[['∆𝑐_𝑚']]                    \n",
    "\n",
    "X_data = X1_data.values\n",
    "Y_data= Y1_data.values\n",
    "# normalize data\n",
    "scaler = MinMaxScaler()\n",
    "X_data = scaler.fit_transform(X_data)\n",
    "    "
   ]
  },
  {
   "cell_type": "markdown",
   "metadata": {},
   "source": [
    "# SKLearnModel"
   ]
  },
  {
   "cell_type": "code",
   "execution_count": 5,
   "metadata": {},
   "outputs": [],
   "source": [
    "model_cm_Neurocontroller= GradientBoostingRegressor(n_estimators =2000 , learning_rate = 0.3,max_depth=2)\n",
    "cm_Neurocontroller = cross_validate(model_cm_Neurocontroller,X_data,Y_data.reshape(-1,),cv=10,scoring=('neg_mean_absolute_error'),return_train_score=True)"
   ]
  },
  {
   "cell_type": "code",
   "execution_count": 6,
   "metadata": {},
   "outputs": [
    {
     "data": {
      "text/plain": [
       "{'fit_time': array([4.63307023, 4.10899353, 2.75299811, 2.7889998 , 2.86501312,\n",
       "        2.9049983 , 3.21095943, 2.868999  , 2.73201036, 2.6029973 ]),\n",
       " 'score_time': array([0.006984  , 0.0039897 , 0.00497651, 0.00600243, 0.00499105,\n",
       "        0.00695276, 0.00500989, 0.00499988, 0.00399518, 0.0050199 ]),\n",
       " 'test_score': array([-0.08726459, -0.1205748 , -0.16025175, -0.15633539, -0.06770026,\n",
       "        -0.12837506, -0.1261323 , -0.08063953, -0.07831108, -0.05960701]),\n",
       " 'train_score': array([-0.05025517, -0.05327315, -0.0640558 , -0.04021318, -0.03610269,\n",
       "        -0.06745048, -0.0590964 , -0.0393684 , -0.04324221, -0.04253021])}"
      ]
     },
     "execution_count": 6,
     "metadata": {},
     "output_type": "execute_result"
    }
   ],
   "source": [
    "cm_Neurocontroller"
   ]
  },
  {
   "cell_type": "code",
   "execution_count": 7,
   "metadata": {
    "tags": []
   },
   "outputs": [
    {
     "name": "stdout",
     "output_type": "stream",
     "text": [
      "test scores:\n",
      " [0.08726459134811336, 0.12057479914422614, 0.16025175000804703, 0.15633539458933082, 0.06770026056660035, 0.1283750624988663, 0.1261323043611034, 0.08063952502020956, 0.07831108135072429, 0.059607009902802696]\n",
      "mean:   0.1065191778790024\n",
      "\n",
      "\n",
      "\n",
      "train scores:\n",
      " [0.050255168051219996, 0.053273146853029626, 0.06405579697661222, 0.04021317956787743, 0.036102693416062814, 0.06745048270265738, 0.05909639693497442, 0.03936840041160741, 0.04324221152827845, 0.042530205952360796]\n",
      "mean:   0.04955876823946805\n"
     ]
    }
   ],
   "source": [
    "print(\"test scores:\\n\",list(map(abs,cm_Neurocontroller[\"test_score\"])))\n",
    "print(\"mean:  \",abs(np.mean(cm_Neurocontroller[\"test_score\"])) )\n",
    "print(\"\\n\\n\")\n",
    "print(\"train scores:\\n\",list(map(abs,cm_Neurocontroller[\"train_score\"])))\n",
    "print(\"mean:  \",abs(np.mean(cm_Neurocontroller[\"train_score\"]) ))\n"
   ]
  },
  {
   "cell_type": "code",
   "execution_count": 8,
   "metadata": {},
   "outputs": [
    {
     "name": "stderr",
     "output_type": "stream",
     "text": [
      "c:\\Users\\aminr\\anaconda3\\lib\\site-packages\\sklearn\\ensemble\\_gb.py:437: DataConversionWarning: A column-vector y was passed when a 1d array was expected. Please change the shape of y to (n_samples, ), for example using ravel().\n",
      "  y = column_or_1d(y, warn=True)\n"
     ]
    }
   ],
   "source": [
    "from sklearn.model_selection import train_test_split\n",
    "X_train, X_test, y_train, y_test = train_test_split(X_data, Y_data, test_size=0.01)\n",
    "model_cm_Neurocontroller= GradientBoostingRegressor( learning_rate=0.2, max_depth=3, n_estimators=200)\n",
    "model_cm_Neurocontroller.fit(X_train,y_train)\n",
    "y_pred=model_cm_Neurocontroller.predict(X_test)"
   ]
  },
  {
   "cell_type": "code",
   "execution_count": 9,
   "metadata": {},
   "outputs": [
    {
     "data": {
      "text/plain": [
       "['model_cm_Neurocontroller.h5']"
      ]
     },
     "execution_count": 9,
     "metadata": {},
     "output_type": "execute_result"
    }
   ],
   "source": [
    "from joblib import dump, load\n",
    "dump(model_cm_Neurocontroller,'model_cm_Neurocontroller.h5') "
   ]
  },
  {
   "cell_type": "code",
   "execution_count": 10,
   "metadata": {},
   "outputs": [
    {
     "data": {
      "image/png": "[encoded data removed]",
      "text/plain": [
       "<Figure size 432x288 with 1 Axes>"
      ]
     },
     "metadata": {
      "needs_background": "light"
     },
     "output_type": "display_data"
    }
   ],
   "source": [
    "#plots\n",
    "plt.scatter(list(range(len(y_pred))),y_test, c= ('red'))\n",
    "plt.scatter(list(range(len(y_pred))),y_pred, c= ('blue'),alpha=0.3,s=200)\n",
    "plt.xlabel('x_test')\n",
    "plt.ylabel('Energy value / kJ/kg')\n",
    "plt.legend(['ActualValue', 'PredictedValue'])\n",
    "plt.show()"
   ]
  },
  {
   "cell_type": "code",
   "execution_count": null,
   "metadata": {},
   "outputs": [],
   "source": []
  }
 ],
 "metadata": {
  "kernelspec": {
   "display_name": "base",
   "language": "python",
   "name": "python3"
  },
  "language_info": {
   "codemirror_mode": {
    "name": "ipython",
    "version": 3
   },
   "file_extension": ".py",
   "mimetype": "text/x-python",
   "name": "python",
   "nbconvert_exporter": "python",
   "pygments_lexer": "ipython3",
   "version": "3.9.7"
  },
  "vscode": {
   "interpreter": {
    "hash": "7287290b0480c475e07faa8d8f2642b950c35b54c7904c27a4cb3f03b8542e7d"
   }
  }
 },
 "nbformat": 4,
 "nbformat_minor": 4
}
