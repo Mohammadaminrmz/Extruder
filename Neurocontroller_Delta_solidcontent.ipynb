{
 "cells": [
  {
   "cell_type": "code",
   "execution_count": 1,
   "metadata": {},
   "outputs": [
    {
     "name": "stderr",
     "output_type": "stream",
     "text": [
      "C:\\Users\\Mahtab\\anaconda3\\lib\\site-packages\\pandas\\core\\computation\\expressions.py:20: UserWarning: Pandas requires version '2.7.3' or newer of 'numexpr' (version '2.7.1' currently installed).\n",
      "  from pandas.core.computation.check import NUMEXPR_INSTALLED\n"
     ]
    }
   ],
   "source": [
    "import numpy as np\n",
    "import pandas as pd\n",
    "import matplotlib.pyplot as plt\n",
    "from sklearn.model_selection import train_test_split\n",
    "from sklearn.preprocessing import MinMaxScaler\n",
    "from sklearn.ensemble import GradientBoostingRegressor\n",
    "from sklearn.model_selection import cross_validate"
   ]
  },
  {
   "cell_type": "code",
   "execution_count": 2,
   "metadata": {},
   "outputs": [],
   "source": [
    "df = pd.read_excel('neurocontroller_model.xlsx', dtype=np.float32)"
   ]
  },
  {
   "cell_type": "code",
   "execution_count": 3,
   "metadata": {},
   "outputs": [
    {
     "data": {
      "text/html": [
       "<div>\n",
       "<style scoped>\n",
       "    .dataframe tbody tr th:only-of-type {\n",
       "        vertical-align: middle;\n",
       "    }\n",
       "\n",
       "    .dataframe tbody tr th {\n",
       "        vertical-align: top;\n",
       "    }\n",
       "\n",
       "    .dataframe thead th {\n",
       "        text-align: right;\n",
       "    }\n",
       "</style>\n",
       "<table border=\"1\" class=\"dataframe\">\n",
       "  <thead>\n",
       "    <tr style=\"text-align: right;\">\n",
       "      <th></th>\n",
       "      <th>mass_flow(kg/h)</th>\n",
       "      <th>Energy_ref</th>\n",
       "      <th>Torque_ref</th>\n",
       "      <th>screw_speed(rpm)</th>\n",
       "      <th>solid_content(%)</th>\n",
       "      <th>Energy(kJ/kg)</th>\n",
       "      <th>Torque(N.m)</th>\n",
       "      <th>∆𝒏</th>\n",
       "      <th>∆𝑐_𝑚</th>\n",
       "    </tr>\n",
       "  </thead>\n",
       "  <tbody>\n",
       "    <tr>\n",
       "      <th>0</th>\n",
       "      <td>2.28</td>\n",
       "      <td>6552.149414</td>\n",
       "      <td>2.972</td>\n",
       "      <td>800.0</td>\n",
       "      <td>70.0</td>\n",
       "      <td>6552.149414</td>\n",
       "      <td>2.972000</td>\n",
       "      <td>0.0</td>\n",
       "      <td>0.0</td>\n",
       "    </tr>\n",
       "    <tr>\n",
       "      <th>1</th>\n",
       "      <td>2.28</td>\n",
       "      <td>6552.149414</td>\n",
       "      <td>2.972</td>\n",
       "      <td>1000.0</td>\n",
       "      <td>70.0</td>\n",
       "      <td>9031.174805</td>\n",
       "      <td>3.277172</td>\n",
       "      <td>-200.0</td>\n",
       "      <td>0.0</td>\n",
       "    </tr>\n",
       "    <tr>\n",
       "      <th>2</th>\n",
       "      <td>2.28</td>\n",
       "      <td>6552.149414</td>\n",
       "      <td>2.972</td>\n",
       "      <td>1200.0</td>\n",
       "      <td>70.0</td>\n",
       "      <td>8612.666016</td>\n",
       "      <td>2.604422</td>\n",
       "      <td>-400.0</td>\n",
       "      <td>0.0</td>\n",
       "    </tr>\n",
       "    <tr>\n",
       "      <th>3</th>\n",
       "      <td>2.28</td>\n",
       "      <td>6552.149414</td>\n",
       "      <td>2.972</td>\n",
       "      <td>800.0</td>\n",
       "      <td>72.5</td>\n",
       "      <td>7118.958984</td>\n",
       "      <td>3.229100</td>\n",
       "      <td>0.0</td>\n",
       "      <td>-2.5</td>\n",
       "    </tr>\n",
       "    <tr>\n",
       "      <th>4</th>\n",
       "      <td>2.28</td>\n",
       "      <td>6552.149414</td>\n",
       "      <td>2.972</td>\n",
       "      <td>1000.0</td>\n",
       "      <td>72.5</td>\n",
       "      <td>9297.460938</td>\n",
       "      <td>3.373800</td>\n",
       "      <td>-200.0</td>\n",
       "      <td>-2.5</td>\n",
       "    </tr>\n",
       "  </tbody>\n",
       "</table>\n",
       "</div>"
      ],
      "text/plain": [
       "   mass_flow(kg/h)   Energy_ref  Torque_ref  screw_speed(rpm)  \\\n",
       "0             2.28  6552.149414       2.972             800.0   \n",
       "1             2.28  6552.149414       2.972            1000.0   \n",
       "2             2.28  6552.149414       2.972            1200.0   \n",
       "3             2.28  6552.149414       2.972             800.0   \n",
       "4             2.28  6552.149414       2.972            1000.0   \n",
       "\n",
       "   solid_content(%)  Energy(kJ/kg)  Torque(N.m)     ∆𝒏  ∆𝑐_𝑚  \n",
       "0              70.0    6552.149414     2.972000    0.0   0.0  \n",
       "1              70.0    9031.174805     3.277172 -200.0   0.0  \n",
       "2              70.0    8612.666016     2.604422 -400.0   0.0  \n",
       "3              72.5    7118.958984     3.229100    0.0  -2.5  \n",
       "4              72.5    9297.460938     3.373800 -200.0  -2.5  "
      ]
     },
     "execution_count": 3,
     "metadata": {},
     "output_type": "execute_result"
    }
   ],
   "source": [
    "df.head(5)"
   ]
  },
  {
   "cell_type": "code",
   "execution_count": 4,
   "metadata": {},
   "outputs": [],
   "source": [
    "#define inputs and outputs\n",
    "df = df.sample(frac=1)\n",
    "X1_data = df[['mass_flow(kg/h)','Energy_ref','Torque_ref','Energy(kJ/kg)','Torque(N.m)']]\n",
    "Y1_data = df[['∆𝑐_𝑚']]                    \n",
    "\n",
    "X_data = X1_data.values\n",
    "Y_data= Y1_data.values\n",
    "# normalize data\n",
    "scaler = MinMaxScaler()\n",
    "X_data = scaler.fit_transform(X_data)\n",
    "    "
   ]
  },
  {
   "cell_type": "markdown",
   "metadata": {},
   "source": [
    "# SKLearnModel"
   ]
  },
  {
   "cell_type": "code",
   "execution_count": 6,
   "metadata": {},
   "outputs": [],
   "source": [
    "model_cm_Neurocontroller= GradientBoostingRegressor(n_estimators =2000 , learning_rate = 0.3,max_depth=2)\n",
    "cm_Neurocontroller = cross_validate(model_cm_Neurocontroller,X_data,Y_data.reshape(-1,),cv=10,scoring=('neg_mean_absolute_error'),return_train_score=True)"
   ]
  },
  {
   "cell_type": "code",
   "execution_count": 7,
   "metadata": {},
   "outputs": [
    {
     "data": {
      "text/plain": [
       "{'fit_time': array([1.40819955, 1.32149434, 1.36634469, 1.28159547, 1.46208882,\n",
       "        1.68785357, 1.38626122, 1.32046604, 1.24264526, 1.30849409]),\n",
       " 'score_time': array([0.0049963 , 0.00396037, 0.00398922, 0.00396371, 0.00498867,\n",
       "        0.00300694, 0.00398874, 0.00296164, 0.0029912 , 0.0039947 ]),\n",
       " 'test_score': array([-0.19131774, -0.10476852, -0.0928972 , -0.09847763, -0.12542037,\n",
       "        -0.08151929, -0.09930868, -0.07947877, -0.08891642, -0.05921162]),\n",
       " 'train_score': array([-0.0840071 , -0.05676441, -0.05207821, -0.03916913, -0.04819717,\n",
       "        -0.04850699, -0.04171057, -0.03884691, -0.05276767, -0.03361761])}"
      ]
     },
     "execution_count": 7,
     "metadata": {},
     "output_type": "execute_result"
    }
   ],
   "source": [
    "cm_Neurocontroller"
   ]
  },
  {
   "cell_type": "code",
   "execution_count": 8,
   "metadata": {
    "tags": []
   },
   "outputs": [
    {
     "name": "stdout",
     "output_type": "stream",
     "text": [
      "test scores:\n",
      " [0.19131774044378655, 0.10476851649408868, 0.09289720260423463, 0.09847763086529959, 0.12542036839357032, 0.08151929401570006, 0.09930867524752147, 0.07947876874387283, 0.08891641649401699, 0.05921162281597615]\n",
      "mean:   0.10213162361180675\n",
      "\n",
      "\n",
      "\n",
      "train scores:\n",
      " [0.08400709839711529, 0.056764413156579346, 0.0520782140227721, 0.039169131807097246, 0.048197170272345664, 0.04850698543104792, 0.041710570365575704, 0.03884690769370225, 0.05276766857599779, 0.03361760784801124]\n",
      "mean:   0.04956657675702446\n"
     ]
    }
   ],
   "source": [
    "print(\"test scores:\\n\",list(map(abs,cm_Neurocontroller[\"test_score\"])))\n",
    "print(\"mean:  \",abs(np.mean(cm_Neurocontroller[\"test_score\"])) )\n",
    "print(\"\\n\\n\")\n",
    "print(\"train scores:\\n\",list(map(abs,cm_Neurocontroller[\"train_score\"])))\n",
    "print(\"mean:  \",abs(np.mean(cm_Neurocontroller[\"train_score\"]) ))\n"
   ]
  },
  {
   "cell_type": "code",
   "execution_count": 9,
   "metadata": {},
   "outputs": [
    {
     "name": "stderr",
     "output_type": "stream",
     "text": [
      "C:\\Users\\Mahtab\\anaconda3\\lib\\site-packages\\sklearn\\utils\\validation.py:72: DataConversionWarning: A column-vector y was passed when a 1d array was expected. Please change the shape of y to (n_samples, ), for example using ravel().\n",
      "  return f(**kwargs)\n"
     ]
    }
   ],
   "source": [
    "from sklearn.model_selection import train_test_split\n",
    "X_train, X_test, y_train, y_test = train_test_split(X_data, Y_data, test_size=0.01)\n",
    "model_cm_Neurocontroller= GradientBoostingRegressor( learning_rate=0.2, max_depth=3, n_estimators=200)\n",
    "model_cm_Neurocontroller.fit(X_train,y_train)\n",
    "y_pred=model_cm_Neurocontroller.predict(X_test)"
   ]
  },
  {
   "cell_type": "code",
   "execution_count": 13,
   "metadata": {},
   "outputs": [
    {
     "data": {
      "text/plain": [
       "['model_cm_Neurocontroller.h5']"
      ]
     },
     "execution_count": 13,
     "metadata": {},
     "output_type": "execute_result"
    }
   ],
   "source": [
    "from joblib import dump, load\n",
    "dump(model_cm_Neurocontroller,'model_cm_Neurocontroller.h5') "
   ]
  },
  {
   "cell_type": "code",
   "execution_count": 10,
   "metadata": {},
   "outputs": [
    {
     "data": {
      "image/png": "[encoded data removed]",
      "text/plain": [
       "<Figure size 432x288 with 1 Axes>"
      ]
     },
     "metadata": {
      "needs_background": "light"
     },
     "output_type": "display_data"
    }
   ],
   "source": [
    "#plots\n",
    "plt.scatter(list(range(len(y_pred))),y_test, c= ('red'))\n",
    "plt.scatter(list(range(len(y_pred))),y_pred, c= ('blue'),alpha=0.3,s=200)\n",
    "plt.xlabel('x_test')\n",
    "plt.ylabel('Energy value / kJ/kg')\n",
    "plt.legend(['ActualValue', 'PredictedValue'])\n",
    "plt.show()"
   ]
  },
  {
   "cell_type": "code",
   "execution_count": null,
   "metadata": {},
   "outputs": [],
   "source": []
  }
 ],
 "metadata": {
  "kernelspec": {
   "display_name": "Python 3",
   "language": "python",
   "name": "python3"
  },
  "language_info": {
   "codemirror_mode": {
    "name": "ipython",
    "version": 3
   },
   "file_extension": ".py",
   "mimetype": "text/x-python",
   "name": "python",
   "nbconvert_exporter": "python",
   "pygments_lexer": "ipython3",
   "version": "3.8.5"
  }
 },
 "nbformat": 4,
 "nbformat_minor": 4
}
